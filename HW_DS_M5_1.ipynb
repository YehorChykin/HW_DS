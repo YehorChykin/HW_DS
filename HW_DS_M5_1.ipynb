{
  "nbformat": 4,
  "nbformat_minor": 0,
  "metadata": {
    "colab": {
      "provenance": [],
      "authorship_tag": "ABX9TyNCzr/FWiDapgnH1T21PcgK",
      "include_colab_link": true
    },
    "kernelspec": {
      "name": "python3",
      "display_name": "Python 3"
    },
    "language_info": {
      "name": "python"
    }
  },
  "cells": [
    {
      "cell_type": "markdown",
      "metadata": {
        "id": "view-in-github",
        "colab_type": "text"
      },
      "source": [
        "<a href=\"https://colab.research.google.com/github/YehorChykin/HW_DS/blob/main/HW_DS_M5_1.ipynb\" target=\"_parent\"><img src=\"https://colab.research.google.com/assets/colab-badge.svg\" alt=\"Open In Colab\"/></a>"
      ]
    },
    {
      "cell_type": "markdown",
      "source": [
        "Імпорт бібліотек"
      ],
      "metadata": {
        "id": "VoNxg__9B7kx"
      }
    },
    {
      "cell_type": "code",
      "source": [
        "import pandas as pd\n",
        "import matplotlib.pyplot as plt"
      ],
      "metadata": {
        "id": "HyRMs6B3B9zu"
      },
      "execution_count": 22,
      "outputs": []
    },
    {
      "cell_type": "markdown",
      "source": [
        "​\n",
        "\n",
        "Прочитайте дані за допомогою методу read_html з таблиці \"Коефіцієнт народжуваності в регіонах України (1950—2019)\" посилання"
      ],
      "metadata": {
        "id": "Ah2jkuSACHhZ"
      }
    },
    {
      "cell_type": "code",
      "source": [
        "tab_list = pd.read_html('https://uk.wikipedia.org/wiki/%D0%9D%D0%B0%D1%81%D0%B5%D0%BB%D0%B5%D0%BD%D0%BD%D1%8F_%D0%A3%D0%BA%D1%80%D0%B0%D1%97%D0%BD%D0%B8')"
      ],
      "metadata": {
        "id": "VKnY0xLFCOhr"
      },
      "execution_count": 23,
      "outputs": []
    },
    {
      "cell_type": "code",
      "source": [
        "tab_list[12]"
      ],
      "metadata": {
        "colab": {
          "base_uri": "https://localhost:8080/",
          "height": 928
        },
        "id": "PV6fhoR-DsYb",
        "outputId": "2a4a05ad-d775-48d2-9bc4-1542e0c00936"
      },
      "execution_count": 24,
      "outputs": [
        {
          "output_type": "execute_result",
          "data": {
            "text/plain": [
              "               Регіон   1950   1960   1970  1990  2000  2012 2014 2019\n",
              "0                Крим  230.0  206.0  160.0   130    73   126    —    —\n",
              "1           Вінницька  224.0  192.0  142.0   124    84   112  109   76\n",
              "2           Волинська  247.0  250.0  179.0   153   112   148  141  101\n",
              "3    Дніпропетровська  204.0  204.0  151.0   123    71   112  111   71\n",
              "4            Донецька  271.0  214.0  140.0   109    61    98   82    —\n",
              "5         Житомирська  261.0  223.0  159.0   129    89   122  120   79\n",
              "6        Закарпатська  314.0  273.0  207.0   168   115   151  146  104\n",
              "7          Запорізька  219.0  197.0  150.0   124    71   106  106   68\n",
              "8   Івано-Франківська  243.0  248.0  182.0   155   103   124  122   88\n",
              "9            Київська  204.0  189.0  156.0   123    73   122  121   80\n",
              "10     Кіровоградська  216.0  171.0  145.0   126    79   110  108   68\n",
              "11          Луганська  262.0  235.0  144.0   116    62    96   51    —\n",
              "12          Львівська  234.0  240.0  171.0   140    91   119  119   87\n",
              "13       Миколаївська  211.0  194.0  155.0   137    80   115  112   71\n",
              "14            Одеська  241.0  192.0  148.0   126    80   127  123   88\n",
              "15         Полтавська  186.0  163.0  131.0   118    70    99  100   65\n",
              "16         Рівненська  269.0  267.0  193.0   158   118   159  148  107\n",
              "17            Сумська  216.0  184.0  132.0   115    70    97   92   60\n",
              "18      Тернопільська  213.0  216.0  157.0   142    92   113  109   76\n",
              "19         Харківська  197.0  173.0  140.0   114    68    99  101   68\n",
              "20         Херсонська  208.0  214.0  166.0   143    85   117  115   81\n",
              "21        Хмельницька  234.0  198.0  148.0   129    85   113  112   79\n",
              "22          Черкаська  205.0  179.0  144.0   123    75   100   98   64\n",
              "23        Чернівецька  247.0  218.0  170.0   148   101   128  129   92\n",
              "24       Чернігівська  220.0  183.0  127.0   108    69    94   90   61\n",
              "25               Київ    NaN  174.0  159.0   120    73   120  121  110\n",
              "26        Севастополь    NaN    NaN    NaN   125    70   120    —    —\n",
              "27            Україна  228.0  205.0  152.0   126    78   114  111   81"
            ],
            "text/html": [
              "\n",
              "  <div id=\"df-a39e2c35-2a75-4181-b4e9-823dbdf9837e\" class=\"colab-df-container\">\n",
              "    <div>\n",
              "<style scoped>\n",
              "    .dataframe tbody tr th:only-of-type {\n",
              "        vertical-align: middle;\n",
              "    }\n",
              "\n",
              "    .dataframe tbody tr th {\n",
              "        vertical-align: top;\n",
              "    }\n",
              "\n",
              "    .dataframe thead th {\n",
              "        text-align: right;\n",
              "    }\n",
              "</style>\n",
              "<table border=\"1\" class=\"dataframe\">\n",
              "  <thead>\n",
              "    <tr style=\"text-align: right;\">\n",
              "      <th></th>\n",
              "      <th>Регіон</th>\n",
              "      <th>1950</th>\n",
              "      <th>1960</th>\n",
              "      <th>1970</th>\n",
              "      <th>1990</th>\n",
              "      <th>2000</th>\n",
              "      <th>2012</th>\n",
              "      <th>2014</th>\n",
              "      <th>2019</th>\n",
              "    </tr>\n",
              "  </thead>\n",
              "  <tbody>\n",
              "    <tr>\n",
              "      <th>0</th>\n",
              "      <td>Крим</td>\n",
              "      <td>230.0</td>\n",
              "      <td>206.0</td>\n",
              "      <td>160.0</td>\n",
              "      <td>130</td>\n",
              "      <td>73</td>\n",
              "      <td>126</td>\n",
              "      <td>—</td>\n",
              "      <td>—</td>\n",
              "    </tr>\n",
              "    <tr>\n",
              "      <th>1</th>\n",
              "      <td>Вінницька</td>\n",
              "      <td>224.0</td>\n",
              "      <td>192.0</td>\n",
              "      <td>142.0</td>\n",
              "      <td>124</td>\n",
              "      <td>84</td>\n",
              "      <td>112</td>\n",
              "      <td>109</td>\n",
              "      <td>76</td>\n",
              "    </tr>\n",
              "    <tr>\n",
              "      <th>2</th>\n",
              "      <td>Волинська</td>\n",
              "      <td>247.0</td>\n",
              "      <td>250.0</td>\n",
              "      <td>179.0</td>\n",
              "      <td>153</td>\n",
              "      <td>112</td>\n",
              "      <td>148</td>\n",
              "      <td>141</td>\n",
              "      <td>101</td>\n",
              "    </tr>\n",
              "    <tr>\n",
              "      <th>3</th>\n",
              "      <td>Дніпропетровська</td>\n",
              "      <td>204.0</td>\n",
              "      <td>204.0</td>\n",
              "      <td>151.0</td>\n",
              "      <td>123</td>\n",
              "      <td>71</td>\n",
              "      <td>112</td>\n",
              "      <td>111</td>\n",
              "      <td>71</td>\n",
              "    </tr>\n",
              "    <tr>\n",
              "      <th>4</th>\n",
              "      <td>Донецька</td>\n",
              "      <td>271.0</td>\n",
              "      <td>214.0</td>\n",
              "      <td>140.0</td>\n",
              "      <td>109</td>\n",
              "      <td>61</td>\n",
              "      <td>98</td>\n",
              "      <td>82</td>\n",
              "      <td>—</td>\n",
              "    </tr>\n",
              "    <tr>\n",
              "      <th>5</th>\n",
              "      <td>Житомирська</td>\n",
              "      <td>261.0</td>\n",
              "      <td>223.0</td>\n",
              "      <td>159.0</td>\n",
              "      <td>129</td>\n",
              "      <td>89</td>\n",
              "      <td>122</td>\n",
              "      <td>120</td>\n",
              "      <td>79</td>\n",
              "    </tr>\n",
              "    <tr>\n",
              "      <th>6</th>\n",
              "      <td>Закарпатська</td>\n",
              "      <td>314.0</td>\n",
              "      <td>273.0</td>\n",
              "      <td>207.0</td>\n",
              "      <td>168</td>\n",
              "      <td>115</td>\n",
              "      <td>151</td>\n",
              "      <td>146</td>\n",
              "      <td>104</td>\n",
              "    </tr>\n",
              "    <tr>\n",
              "      <th>7</th>\n",
              "      <td>Запорізька</td>\n",
              "      <td>219.0</td>\n",
              "      <td>197.0</td>\n",
              "      <td>150.0</td>\n",
              "      <td>124</td>\n",
              "      <td>71</td>\n",
              "      <td>106</td>\n",
              "      <td>106</td>\n",
              "      <td>68</td>\n",
              "    </tr>\n",
              "    <tr>\n",
              "      <th>8</th>\n",
              "      <td>Івано-Франківська</td>\n",
              "      <td>243.0</td>\n",
              "      <td>248.0</td>\n",
              "      <td>182.0</td>\n",
              "      <td>155</td>\n",
              "      <td>103</td>\n",
              "      <td>124</td>\n",
              "      <td>122</td>\n",
              "      <td>88</td>\n",
              "    </tr>\n",
              "    <tr>\n",
              "      <th>9</th>\n",
              "      <td>Київська</td>\n",
              "      <td>204.0</td>\n",
              "      <td>189.0</td>\n",
              "      <td>156.0</td>\n",
              "      <td>123</td>\n",
              "      <td>73</td>\n",
              "      <td>122</td>\n",
              "      <td>121</td>\n",
              "      <td>80</td>\n",
              "    </tr>\n",
              "    <tr>\n",
              "      <th>10</th>\n",
              "      <td>Кіровоградська</td>\n",
              "      <td>216.0</td>\n",
              "      <td>171.0</td>\n",
              "      <td>145.0</td>\n",
              "      <td>126</td>\n",
              "      <td>79</td>\n",
              "      <td>110</td>\n",
              "      <td>108</td>\n",
              "      <td>68</td>\n",
              "    </tr>\n",
              "    <tr>\n",
              "      <th>11</th>\n",
              "      <td>Луганська</td>\n",
              "      <td>262.0</td>\n",
              "      <td>235.0</td>\n",
              "      <td>144.0</td>\n",
              "      <td>116</td>\n",
              "      <td>62</td>\n",
              "      <td>96</td>\n",
              "      <td>51</td>\n",
              "      <td>—</td>\n",
              "    </tr>\n",
              "    <tr>\n",
              "      <th>12</th>\n",
              "      <td>Львівська</td>\n",
              "      <td>234.0</td>\n",
              "      <td>240.0</td>\n",
              "      <td>171.0</td>\n",
              "      <td>140</td>\n",
              "      <td>91</td>\n",
              "      <td>119</td>\n",
              "      <td>119</td>\n",
              "      <td>87</td>\n",
              "    </tr>\n",
              "    <tr>\n",
              "      <th>13</th>\n",
              "      <td>Миколаївська</td>\n",
              "      <td>211.0</td>\n",
              "      <td>194.0</td>\n",
              "      <td>155.0</td>\n",
              "      <td>137</td>\n",
              "      <td>80</td>\n",
              "      <td>115</td>\n",
              "      <td>112</td>\n",
              "      <td>71</td>\n",
              "    </tr>\n",
              "    <tr>\n",
              "      <th>14</th>\n",
              "      <td>Одеська</td>\n",
              "      <td>241.0</td>\n",
              "      <td>192.0</td>\n",
              "      <td>148.0</td>\n",
              "      <td>126</td>\n",
              "      <td>80</td>\n",
              "      <td>127</td>\n",
              "      <td>123</td>\n",
              "      <td>88</td>\n",
              "    </tr>\n",
              "    <tr>\n",
              "      <th>15</th>\n",
              "      <td>Полтавська</td>\n",
              "      <td>186.0</td>\n",
              "      <td>163.0</td>\n",
              "      <td>131.0</td>\n",
              "      <td>118</td>\n",
              "      <td>70</td>\n",
              "      <td>99</td>\n",
              "      <td>100</td>\n",
              "      <td>65</td>\n",
              "    </tr>\n",
              "    <tr>\n",
              "      <th>16</th>\n",
              "      <td>Рівненська</td>\n",
              "      <td>269.0</td>\n",
              "      <td>267.0</td>\n",
              "      <td>193.0</td>\n",
              "      <td>158</td>\n",
              "      <td>118</td>\n",
              "      <td>159</td>\n",
              "      <td>148</td>\n",
              "      <td>107</td>\n",
              "    </tr>\n",
              "    <tr>\n",
              "      <th>17</th>\n",
              "      <td>Сумська</td>\n",
              "      <td>216.0</td>\n",
              "      <td>184.0</td>\n",
              "      <td>132.0</td>\n",
              "      <td>115</td>\n",
              "      <td>70</td>\n",
              "      <td>97</td>\n",
              "      <td>92</td>\n",
              "      <td>60</td>\n",
              "    </tr>\n",
              "    <tr>\n",
              "      <th>18</th>\n",
              "      <td>Тернопільська</td>\n",
              "      <td>213.0</td>\n",
              "      <td>216.0</td>\n",
              "      <td>157.0</td>\n",
              "      <td>142</td>\n",
              "      <td>92</td>\n",
              "      <td>113</td>\n",
              "      <td>109</td>\n",
              "      <td>76</td>\n",
              "    </tr>\n",
              "    <tr>\n",
              "      <th>19</th>\n",
              "      <td>Харківська</td>\n",
              "      <td>197.0</td>\n",
              "      <td>173.0</td>\n",
              "      <td>140.0</td>\n",
              "      <td>114</td>\n",
              "      <td>68</td>\n",
              "      <td>99</td>\n",
              "      <td>101</td>\n",
              "      <td>68</td>\n",
              "    </tr>\n",
              "    <tr>\n",
              "      <th>20</th>\n",
              "      <td>Херсонська</td>\n",
              "      <td>208.0</td>\n",
              "      <td>214.0</td>\n",
              "      <td>166.0</td>\n",
              "      <td>143</td>\n",
              "      <td>85</td>\n",
              "      <td>117</td>\n",
              "      <td>115</td>\n",
              "      <td>81</td>\n",
              "    </tr>\n",
              "    <tr>\n",
              "      <th>21</th>\n",
              "      <td>Хмельницька</td>\n",
              "      <td>234.0</td>\n",
              "      <td>198.0</td>\n",
              "      <td>148.0</td>\n",
              "      <td>129</td>\n",
              "      <td>85</td>\n",
              "      <td>113</td>\n",
              "      <td>112</td>\n",
              "      <td>79</td>\n",
              "    </tr>\n",
              "    <tr>\n",
              "      <th>22</th>\n",
              "      <td>Черкаська</td>\n",
              "      <td>205.0</td>\n",
              "      <td>179.0</td>\n",
              "      <td>144.0</td>\n",
              "      <td>123</td>\n",
              "      <td>75</td>\n",
              "      <td>100</td>\n",
              "      <td>98</td>\n",
              "      <td>64</td>\n",
              "    </tr>\n",
              "    <tr>\n",
              "      <th>23</th>\n",
              "      <td>Чернівецька</td>\n",
              "      <td>247.0</td>\n",
              "      <td>218.0</td>\n",
              "      <td>170.0</td>\n",
              "      <td>148</td>\n",
              "      <td>101</td>\n",
              "      <td>128</td>\n",
              "      <td>129</td>\n",
              "      <td>92</td>\n",
              "    </tr>\n",
              "    <tr>\n",
              "      <th>24</th>\n",
              "      <td>Чернігівська</td>\n",
              "      <td>220.0</td>\n",
              "      <td>183.0</td>\n",
              "      <td>127.0</td>\n",
              "      <td>108</td>\n",
              "      <td>69</td>\n",
              "      <td>94</td>\n",
              "      <td>90</td>\n",
              "      <td>61</td>\n",
              "    </tr>\n",
              "    <tr>\n",
              "      <th>25</th>\n",
              "      <td>Київ</td>\n",
              "      <td>NaN</td>\n",
              "      <td>174.0</td>\n",
              "      <td>159.0</td>\n",
              "      <td>120</td>\n",
              "      <td>73</td>\n",
              "      <td>120</td>\n",
              "      <td>121</td>\n",
              "      <td>110</td>\n",
              "    </tr>\n",
              "    <tr>\n",
              "      <th>26</th>\n",
              "      <td>Севастополь</td>\n",
              "      <td>NaN</td>\n",
              "      <td>NaN</td>\n",
              "      <td>NaN</td>\n",
              "      <td>125</td>\n",
              "      <td>70</td>\n",
              "      <td>120</td>\n",
              "      <td>—</td>\n",
              "      <td>—</td>\n",
              "    </tr>\n",
              "    <tr>\n",
              "      <th>27</th>\n",
              "      <td>Україна</td>\n",
              "      <td>228.0</td>\n",
              "      <td>205.0</td>\n",
              "      <td>152.0</td>\n",
              "      <td>126</td>\n",
              "      <td>78</td>\n",
              "      <td>114</td>\n",
              "      <td>111</td>\n",
              "      <td>81</td>\n",
              "    </tr>\n",
              "  </tbody>\n",
              "</table>\n",
              "</div>\n",
              "    <div class=\"colab-df-buttons\">\n",
              "\n",
              "  <div class=\"colab-df-container\">\n",
              "    <button class=\"colab-df-convert\" onclick=\"convertToInteractive('df-a39e2c35-2a75-4181-b4e9-823dbdf9837e')\"\n",
              "            title=\"Convert this dataframe to an interactive table.\"\n",
              "            style=\"display:none;\">\n",
              "\n",
              "  <svg xmlns=\"http://www.w3.org/2000/svg\" height=\"24px\" viewBox=\"0 -960 960 960\">\n",
              "    <path d=\"M120-120v-720h720v720H120Zm60-500h600v-160H180v160Zm220 220h160v-160H400v160Zm0 220h160v-160H400v160ZM180-400h160v-160H180v160Zm440 0h160v-160H620v160ZM180-180h160v-160H180v160Zm440 0h160v-160H620v160Z\"/>\n",
              "  </svg>\n",
              "    </button>\n",
              "\n",
              "  <style>\n",
              "    .colab-df-container {\n",
              "      display:flex;\n",
              "      gap: 12px;\n",
              "    }\n",
              "\n",
              "    .colab-df-convert {\n",
              "      background-color: #E8F0FE;\n",
              "      border: none;\n",
              "      border-radius: 50%;\n",
              "      cursor: pointer;\n",
              "      display: none;\n",
              "      fill: #1967D2;\n",
              "      height: 32px;\n",
              "      padding: 0 0 0 0;\n",
              "      width: 32px;\n",
              "    }\n",
              "\n",
              "    .colab-df-convert:hover {\n",
              "      background-color: #E2EBFA;\n",
              "      box-shadow: 0px 1px 2px rgba(60, 64, 67, 0.3), 0px 1px 3px 1px rgba(60, 64, 67, 0.15);\n",
              "      fill: #174EA6;\n",
              "    }\n",
              "\n",
              "    .colab-df-buttons div {\n",
              "      margin-bottom: 4px;\n",
              "    }\n",
              "\n",
              "    [theme=dark] .colab-df-convert {\n",
              "      background-color: #3B4455;\n",
              "      fill: #D2E3FC;\n",
              "    }\n",
              "\n",
              "    [theme=dark] .colab-df-convert:hover {\n",
              "      background-color: #434B5C;\n",
              "      box-shadow: 0px 1px 3px 1px rgba(0, 0, 0, 0.15);\n",
              "      filter: drop-shadow(0px 1px 2px rgba(0, 0, 0, 0.3));\n",
              "      fill: #FFFFFF;\n",
              "    }\n",
              "  </style>\n",
              "\n",
              "    <script>\n",
              "      const buttonEl =\n",
              "        document.querySelector('#df-a39e2c35-2a75-4181-b4e9-823dbdf9837e button.colab-df-convert');\n",
              "      buttonEl.style.display =\n",
              "        google.colab.kernel.accessAllowed ? 'block' : 'none';\n",
              "\n",
              "      async function convertToInteractive(key) {\n",
              "        const element = document.querySelector('#df-a39e2c35-2a75-4181-b4e9-823dbdf9837e');\n",
              "        const dataTable =\n",
              "          await google.colab.kernel.invokeFunction('convertToInteractive',\n",
              "                                                    [key], {});\n",
              "        if (!dataTable) return;\n",
              "\n",
              "        const docLinkHtml = 'Like what you see? Visit the ' +\n",
              "          '<a target=\"_blank\" href=https://colab.research.google.com/notebooks/data_table.ipynb>data table notebook</a>'\n",
              "          + ' to learn more about interactive tables.';\n",
              "        element.innerHTML = '';\n",
              "        dataTable['output_type'] = 'display_data';\n",
              "        await google.colab.output.renderOutput(dataTable, element);\n",
              "        const docLink = document.createElement('div');\n",
              "        docLink.innerHTML = docLinkHtml;\n",
              "        element.appendChild(docLink);\n",
              "      }\n",
              "    </script>\n",
              "  </div>\n",
              "\n",
              "\n",
              "<div id=\"df-d2341a13-f142-4e5e-ab3d-1fdca235690c\">\n",
              "  <button class=\"colab-df-quickchart\" onclick=\"quickchart('df-d2341a13-f142-4e5e-ab3d-1fdca235690c')\"\n",
              "            title=\"Suggest charts\"\n",
              "            style=\"display:none;\">\n",
              "\n",
              "<svg xmlns=\"http://www.w3.org/2000/svg\" height=\"24px\"viewBox=\"0 0 24 24\"\n",
              "     width=\"24px\">\n",
              "    <g>\n",
              "        <path d=\"M19 3H5c-1.1 0-2 .9-2 2v14c0 1.1.9 2 2 2h14c1.1 0 2-.9 2-2V5c0-1.1-.9-2-2-2zM9 17H7v-7h2v7zm4 0h-2V7h2v10zm4 0h-2v-4h2v4z\"/>\n",
              "    </g>\n",
              "</svg>\n",
              "  </button>\n",
              "\n",
              "<style>\n",
              "  .colab-df-quickchart {\n",
              "      --bg-color: #E8F0FE;\n",
              "      --fill-color: #1967D2;\n",
              "      --hover-bg-color: #E2EBFA;\n",
              "      --hover-fill-color: #174EA6;\n",
              "      --disabled-fill-color: #AAA;\n",
              "      --disabled-bg-color: #DDD;\n",
              "  }\n",
              "\n",
              "  [theme=dark] .colab-df-quickchart {\n",
              "      --bg-color: #3B4455;\n",
              "      --fill-color: #D2E3FC;\n",
              "      --hover-bg-color: #434B5C;\n",
              "      --hover-fill-color: #FFFFFF;\n",
              "      --disabled-bg-color: #3B4455;\n",
              "      --disabled-fill-color: #666;\n",
              "  }\n",
              "\n",
              "  .colab-df-quickchart {\n",
              "    background-color: var(--bg-color);\n",
              "    border: none;\n",
              "    border-radius: 50%;\n",
              "    cursor: pointer;\n",
              "    display: none;\n",
              "    fill: var(--fill-color);\n",
              "    height: 32px;\n",
              "    padding: 0;\n",
              "    width: 32px;\n",
              "  }\n",
              "\n",
              "  .colab-df-quickchart:hover {\n",
              "    background-color: var(--hover-bg-color);\n",
              "    box-shadow: 0 1px 2px rgba(60, 64, 67, 0.3), 0 1px 3px 1px rgba(60, 64, 67, 0.15);\n",
              "    fill: var(--button-hover-fill-color);\n",
              "  }\n",
              "\n",
              "  .colab-df-quickchart-complete:disabled,\n",
              "  .colab-df-quickchart-complete:disabled:hover {\n",
              "    background-color: var(--disabled-bg-color);\n",
              "    fill: var(--disabled-fill-color);\n",
              "    box-shadow: none;\n",
              "  }\n",
              "\n",
              "  .colab-df-spinner {\n",
              "    border: 2px solid var(--fill-color);\n",
              "    border-color: transparent;\n",
              "    border-bottom-color: var(--fill-color);\n",
              "    animation:\n",
              "      spin 1s steps(1) infinite;\n",
              "  }\n",
              "\n",
              "  @keyframes spin {\n",
              "    0% {\n",
              "      border-color: transparent;\n",
              "      border-bottom-color: var(--fill-color);\n",
              "      border-left-color: var(--fill-color);\n",
              "    }\n",
              "    20% {\n",
              "      border-color: transparent;\n",
              "      border-left-color: var(--fill-color);\n",
              "      border-top-color: var(--fill-color);\n",
              "    }\n",
              "    30% {\n",
              "      border-color: transparent;\n",
              "      border-left-color: var(--fill-color);\n",
              "      border-top-color: var(--fill-color);\n",
              "      border-right-color: var(--fill-color);\n",
              "    }\n",
              "    40% {\n",
              "      border-color: transparent;\n",
              "      border-right-color: var(--fill-color);\n",
              "      border-top-color: var(--fill-color);\n",
              "    }\n",
              "    60% {\n",
              "      border-color: transparent;\n",
              "      border-right-color: var(--fill-color);\n",
              "    }\n",
              "    80% {\n",
              "      border-color: transparent;\n",
              "      border-right-color: var(--fill-color);\n",
              "      border-bottom-color: var(--fill-color);\n",
              "    }\n",
              "    90% {\n",
              "      border-color: transparent;\n",
              "      border-bottom-color: var(--fill-color);\n",
              "    }\n",
              "  }\n",
              "</style>\n",
              "\n",
              "  <script>\n",
              "    async function quickchart(key) {\n",
              "      const quickchartButtonEl =\n",
              "        document.querySelector('#' + key + ' button');\n",
              "      quickchartButtonEl.disabled = true;  // To prevent multiple clicks.\n",
              "      quickchartButtonEl.classList.add('colab-df-spinner');\n",
              "      try {\n",
              "        const charts = await google.colab.kernel.invokeFunction(\n",
              "            'suggestCharts', [key], {});\n",
              "      } catch (error) {\n",
              "        console.error('Error during call to suggestCharts:', error);\n",
              "      }\n",
              "      quickchartButtonEl.classList.remove('colab-df-spinner');\n",
              "      quickchartButtonEl.classList.add('colab-df-quickchart-complete');\n",
              "    }\n",
              "    (() => {\n",
              "      let quickchartButtonEl =\n",
              "        document.querySelector('#df-d2341a13-f142-4e5e-ab3d-1fdca235690c button');\n",
              "      quickchartButtonEl.style.display =\n",
              "        google.colab.kernel.accessAllowed ? 'block' : 'none';\n",
              "    })();\n",
              "  </script>\n",
              "</div>\n",
              "    </div>\n",
              "  </div>\n"
            ],
            "application/vnd.google.colaboratory.intrinsic+json": {
              "type": "dataframe",
              "summary": "{\n  \"name\": \"tab_list[12]\",\n  \"rows\": 28,\n  \"fields\": [\n    {\n      \"column\": \"\\u0420\\u0435\\u0433\\u0456\\u043e\\u043d\",\n      \"properties\": {\n        \"dtype\": \"string\",\n        \"num_unique_values\": 28,\n        \"samples\": [\n          \"\\u041a\\u0438\\u0457\\u0432\\u0441\\u044c\\u043a\\u0430\",\n          \"\\u041a\\u0438\\u0457\\u0432\",\n          \"\\u0406\\u0432\\u0430\\u043d\\u043e-\\u0424\\u0440\\u0430\\u043d\\u043a\\u0456\\u0432\\u0441\\u044c\\u043a\\u0430\"\n        ],\n        \"semantic_type\": \"\",\n        \"description\": \"\"\n      }\n    },\n    {\n      \"column\": \"1950\",\n      \"properties\": {\n        \"dtype\": \"number\",\n        \"std\": 28.22045084958506,\n        \"min\": 186.0,\n        \"max\": 314.0,\n        \"num_unique_values\": 22,\n        \"samples\": [\n          230.0,\n          241.0,\n          243.0\n        ],\n        \"semantic_type\": \"\",\n        \"description\": \"\"\n      }\n    },\n    {\n      \"column\": \"1960\",\n      \"properties\": {\n        \"dtype\": \"number\",\n        \"std\": 29.36032169490808,\n        \"min\": 163.0,\n        \"max\": 273.0,\n        \"num_unique_values\": 25,\n        \"samples\": [\n          248.0,\n          184.0,\n          206.0\n        ],\n        \"semantic_type\": \"\",\n        \"description\": \"\"\n      }\n    },\n    {\n      \"column\": \"1970\",\n      \"properties\": {\n        \"dtype\": \"number\",\n        \"std\": 18.703565484242883,\n        \"min\": 127.0,\n        \"max\": 207.0,\n        \"num_unique_values\": 23,\n        \"samples\": [\n          131.0,\n          156.0,\n          160.0\n        ],\n        \"semantic_type\": \"\",\n        \"description\": \"\"\n      }\n    },\n    {\n      \"column\": \"1990\",\n      \"properties\": {\n        \"dtype\": \"number\",\n        \"std\": 15,\n        \"min\": 108,\n        \"max\": 168,\n        \"num_unique_values\": 22,\n        \"samples\": [\n          130,\n          158,\n          126\n        ],\n        \"semantic_type\": \"\",\n        \"description\": \"\"\n      }\n    },\n    {\n      \"column\": \"2000\",\n      \"properties\": {\n        \"dtype\": \"number\",\n        \"std\": 15,\n        \"min\": 61,\n        \"max\": 118,\n        \"num_unique_values\": 21,\n        \"samples\": [\n          73,\n          75,\n          68\n        ],\n        \"semantic_type\": \"\",\n        \"description\": \"\"\n      }\n    },\n    {\n      \"column\": \"2012\",\n      \"properties\": {\n        \"dtype\": \"number\",\n        \"std\": 16,\n        \"min\": 94,\n        \"max\": 159,\n        \"num_unique_values\": 23,\n        \"samples\": [\n          97,\n          96,\n          126\n        ],\n        \"semantic_type\": \"\",\n        \"description\": \"\"\n      }\n    },\n    {\n      \"column\": \"2014\",\n      \"properties\": {\n        \"dtype\": \"string\",\n        \"num_unique_values\": 23,\n        \"samples\": [\n          \"100\",\n          \"121\",\n          \"\\u2014\"\n        ],\n        \"semantic_type\": \"\",\n        \"description\": \"\"\n      }\n    },\n    {\n      \"column\": \"2019\",\n      \"properties\": {\n        \"dtype\": \"string\",\n        \"num_unique_values\": 18,\n        \"samples\": [\n          \"\\u2014\",\n          \"76\",\n          \"80\"\n        ],\n        \"semantic_type\": \"\",\n        \"description\": \"\"\n      }\n    }\n  ]\n}"
            }
          },
          "metadata": {},
          "execution_count": 24
        }
      ]
    },
    {
      "cell_type": "markdown",
      "source": [
        "Зміна назви для скорочення"
      ],
      "metadata": {
        "id": "5oIe_ds7IhMS"
      }
    },
    {
      "cell_type": "code",
      "source": [
        "df = tab_list[12]"
      ],
      "metadata": {
        "id": "bjPDwreTIkLQ"
      },
      "execution_count": 25,
      "outputs": []
    },
    {
      "cell_type": "markdown",
      "source": [
        "Вивести перші рядки таблиці за допомогою методу head"
      ],
      "metadata": {
        "id": "TjJ0TGDwGT79"
      }
    },
    {
      "cell_type": "code",
      "source": [
        "df.head()"
      ],
      "metadata": {
        "colab": {
          "base_uri": "https://localhost:8080/",
          "height": 206
        },
        "id": "gNDQ9twoGV72",
        "outputId": "ed0270f2-7172-4b64-9e25-0815262d9c3b"
      },
      "execution_count": 26,
      "outputs": [
        {
          "output_type": "execute_result",
          "data": {
            "text/plain": [
              "             Регіон   1950   1960   1970  1990  2000  2012 2014 2019\n",
              "0              Крим  230.0  206.0  160.0   130    73   126    —    —\n",
              "1         Вінницька  224.0  192.0  142.0   124    84   112  109   76\n",
              "2         Волинська  247.0  250.0  179.0   153   112   148  141  101\n",
              "3  Дніпропетровська  204.0  204.0  151.0   123    71   112  111   71\n",
              "4          Донецька  271.0  214.0  140.0   109    61    98   82    —"
            ],
            "text/html": [
              "\n",
              "  <div id=\"df-87c2b3d9-9cef-4b1e-8309-5fb443cc9b2c\" class=\"colab-df-container\">\n",
              "    <div>\n",
              "<style scoped>\n",
              "    .dataframe tbody tr th:only-of-type {\n",
              "        vertical-align: middle;\n",
              "    }\n",
              "\n",
              "    .dataframe tbody tr th {\n",
              "        vertical-align: top;\n",
              "    }\n",
              "\n",
              "    .dataframe thead th {\n",
              "        text-align: right;\n",
              "    }\n",
              "</style>\n",
              "<table border=\"1\" class=\"dataframe\">\n",
              "  <thead>\n",
              "    <tr style=\"text-align: right;\">\n",
              "      <th></th>\n",
              "      <th>Регіон</th>\n",
              "      <th>1950</th>\n",
              "      <th>1960</th>\n",
              "      <th>1970</th>\n",
              "      <th>1990</th>\n",
              "      <th>2000</th>\n",
              "      <th>2012</th>\n",
              "      <th>2014</th>\n",
              "      <th>2019</th>\n",
              "    </tr>\n",
              "  </thead>\n",
              "  <tbody>\n",
              "    <tr>\n",
              "      <th>0</th>\n",
              "      <td>Крим</td>\n",
              "      <td>230.0</td>\n",
              "      <td>206.0</td>\n",
              "      <td>160.0</td>\n",
              "      <td>130</td>\n",
              "      <td>73</td>\n",
              "      <td>126</td>\n",
              "      <td>—</td>\n",
              "      <td>—</td>\n",
              "    </tr>\n",
              "    <tr>\n",
              "      <th>1</th>\n",
              "      <td>Вінницька</td>\n",
              "      <td>224.0</td>\n",
              "      <td>192.0</td>\n",
              "      <td>142.0</td>\n",
              "      <td>124</td>\n",
              "      <td>84</td>\n",
              "      <td>112</td>\n",
              "      <td>109</td>\n",
              "      <td>76</td>\n",
              "    </tr>\n",
              "    <tr>\n",
              "      <th>2</th>\n",
              "      <td>Волинська</td>\n",
              "      <td>247.0</td>\n",
              "      <td>250.0</td>\n",
              "      <td>179.0</td>\n",
              "      <td>153</td>\n",
              "      <td>112</td>\n",
              "      <td>148</td>\n",
              "      <td>141</td>\n",
              "      <td>101</td>\n",
              "    </tr>\n",
              "    <tr>\n",
              "      <th>3</th>\n",
              "      <td>Дніпропетровська</td>\n",
              "      <td>204.0</td>\n",
              "      <td>204.0</td>\n",
              "      <td>151.0</td>\n",
              "      <td>123</td>\n",
              "      <td>71</td>\n",
              "      <td>112</td>\n",
              "      <td>111</td>\n",
              "      <td>71</td>\n",
              "    </tr>\n",
              "    <tr>\n",
              "      <th>4</th>\n",
              "      <td>Донецька</td>\n",
              "      <td>271.0</td>\n",
              "      <td>214.0</td>\n",
              "      <td>140.0</td>\n",
              "      <td>109</td>\n",
              "      <td>61</td>\n",
              "      <td>98</td>\n",
              "      <td>82</td>\n",
              "      <td>—</td>\n",
              "    </tr>\n",
              "  </tbody>\n",
              "</table>\n",
              "</div>\n",
              "    <div class=\"colab-df-buttons\">\n",
              "\n",
              "  <div class=\"colab-df-container\">\n",
              "    <button class=\"colab-df-convert\" onclick=\"convertToInteractive('df-87c2b3d9-9cef-4b1e-8309-5fb443cc9b2c')\"\n",
              "            title=\"Convert this dataframe to an interactive table.\"\n",
              "            style=\"display:none;\">\n",
              "\n",
              "  <svg xmlns=\"http://www.w3.org/2000/svg\" height=\"24px\" viewBox=\"0 -960 960 960\">\n",
              "    <path d=\"M120-120v-720h720v720H120Zm60-500h600v-160H180v160Zm220 220h160v-160H400v160Zm0 220h160v-160H400v160ZM180-400h160v-160H180v160Zm440 0h160v-160H620v160ZM180-180h160v-160H180v160Zm440 0h160v-160H620v160Z\"/>\n",
              "  </svg>\n",
              "    </button>\n",
              "\n",
              "  <style>\n",
              "    .colab-df-container {\n",
              "      display:flex;\n",
              "      gap: 12px;\n",
              "    }\n",
              "\n",
              "    .colab-df-convert {\n",
              "      background-color: #E8F0FE;\n",
              "      border: none;\n",
              "      border-radius: 50%;\n",
              "      cursor: pointer;\n",
              "      display: none;\n",
              "      fill: #1967D2;\n",
              "      height: 32px;\n",
              "      padding: 0 0 0 0;\n",
              "      width: 32px;\n",
              "    }\n",
              "\n",
              "    .colab-df-convert:hover {\n",
              "      background-color: #E2EBFA;\n",
              "      box-shadow: 0px 1px 2px rgba(60, 64, 67, 0.3), 0px 1px 3px 1px rgba(60, 64, 67, 0.15);\n",
              "      fill: #174EA6;\n",
              "    }\n",
              "\n",
              "    .colab-df-buttons div {\n",
              "      margin-bottom: 4px;\n",
              "    }\n",
              "\n",
              "    [theme=dark] .colab-df-convert {\n",
              "      background-color: #3B4455;\n",
              "      fill: #D2E3FC;\n",
              "    }\n",
              "\n",
              "    [theme=dark] .colab-df-convert:hover {\n",
              "      background-color: #434B5C;\n",
              "      box-shadow: 0px 1px 3px 1px rgba(0, 0, 0, 0.15);\n",
              "      filter: drop-shadow(0px 1px 2px rgba(0, 0, 0, 0.3));\n",
              "      fill: #FFFFFF;\n",
              "    }\n",
              "  </style>\n",
              "\n",
              "    <script>\n",
              "      const buttonEl =\n",
              "        document.querySelector('#df-87c2b3d9-9cef-4b1e-8309-5fb443cc9b2c button.colab-df-convert');\n",
              "      buttonEl.style.display =\n",
              "        google.colab.kernel.accessAllowed ? 'block' : 'none';\n",
              "\n",
              "      async function convertToInteractive(key) {\n",
              "        const element = document.querySelector('#df-87c2b3d9-9cef-4b1e-8309-5fb443cc9b2c');\n",
              "        const dataTable =\n",
              "          await google.colab.kernel.invokeFunction('convertToInteractive',\n",
              "                                                    [key], {});\n",
              "        if (!dataTable) return;\n",
              "\n",
              "        const docLinkHtml = 'Like what you see? Visit the ' +\n",
              "          '<a target=\"_blank\" href=https://colab.research.google.com/notebooks/data_table.ipynb>data table notebook</a>'\n",
              "          + ' to learn more about interactive tables.';\n",
              "        element.innerHTML = '';\n",
              "        dataTable['output_type'] = 'display_data';\n",
              "        await google.colab.output.renderOutput(dataTable, element);\n",
              "        const docLink = document.createElement('div');\n",
              "        docLink.innerHTML = docLinkHtml;\n",
              "        element.appendChild(docLink);\n",
              "      }\n",
              "    </script>\n",
              "  </div>\n",
              "\n",
              "\n",
              "<div id=\"df-2d05acc8-c88d-474e-bbac-a99d15d982d2\">\n",
              "  <button class=\"colab-df-quickchart\" onclick=\"quickchart('df-2d05acc8-c88d-474e-bbac-a99d15d982d2')\"\n",
              "            title=\"Suggest charts\"\n",
              "            style=\"display:none;\">\n",
              "\n",
              "<svg xmlns=\"http://www.w3.org/2000/svg\" height=\"24px\"viewBox=\"0 0 24 24\"\n",
              "     width=\"24px\">\n",
              "    <g>\n",
              "        <path d=\"M19 3H5c-1.1 0-2 .9-2 2v14c0 1.1.9 2 2 2h14c1.1 0 2-.9 2-2V5c0-1.1-.9-2-2-2zM9 17H7v-7h2v7zm4 0h-2V7h2v10zm4 0h-2v-4h2v4z\"/>\n",
              "    </g>\n",
              "</svg>\n",
              "  </button>\n",
              "\n",
              "<style>\n",
              "  .colab-df-quickchart {\n",
              "      --bg-color: #E8F0FE;\n",
              "      --fill-color: #1967D2;\n",
              "      --hover-bg-color: #E2EBFA;\n",
              "      --hover-fill-color: #174EA6;\n",
              "      --disabled-fill-color: #AAA;\n",
              "      --disabled-bg-color: #DDD;\n",
              "  }\n",
              "\n",
              "  [theme=dark] .colab-df-quickchart {\n",
              "      --bg-color: #3B4455;\n",
              "      --fill-color: #D2E3FC;\n",
              "      --hover-bg-color: #434B5C;\n",
              "      --hover-fill-color: #FFFFFF;\n",
              "      --disabled-bg-color: #3B4455;\n",
              "      --disabled-fill-color: #666;\n",
              "  }\n",
              "\n",
              "  .colab-df-quickchart {\n",
              "    background-color: var(--bg-color);\n",
              "    border: none;\n",
              "    border-radius: 50%;\n",
              "    cursor: pointer;\n",
              "    display: none;\n",
              "    fill: var(--fill-color);\n",
              "    height: 32px;\n",
              "    padding: 0;\n",
              "    width: 32px;\n",
              "  }\n",
              "\n",
              "  .colab-df-quickchart:hover {\n",
              "    background-color: var(--hover-bg-color);\n",
              "    box-shadow: 0 1px 2px rgba(60, 64, 67, 0.3), 0 1px 3px 1px rgba(60, 64, 67, 0.15);\n",
              "    fill: var(--button-hover-fill-color);\n",
              "  }\n",
              "\n",
              "  .colab-df-quickchart-complete:disabled,\n",
              "  .colab-df-quickchart-complete:disabled:hover {\n",
              "    background-color: var(--disabled-bg-color);\n",
              "    fill: var(--disabled-fill-color);\n",
              "    box-shadow: none;\n",
              "  }\n",
              "\n",
              "  .colab-df-spinner {\n",
              "    border: 2px solid var(--fill-color);\n",
              "    border-color: transparent;\n",
              "    border-bottom-color: var(--fill-color);\n",
              "    animation:\n",
              "      spin 1s steps(1) infinite;\n",
              "  }\n",
              "\n",
              "  @keyframes spin {\n",
              "    0% {\n",
              "      border-color: transparent;\n",
              "      border-bottom-color: var(--fill-color);\n",
              "      border-left-color: var(--fill-color);\n",
              "    }\n",
              "    20% {\n",
              "      border-color: transparent;\n",
              "      border-left-color: var(--fill-color);\n",
              "      border-top-color: var(--fill-color);\n",
              "    }\n",
              "    30% {\n",
              "      border-color: transparent;\n",
              "      border-left-color: var(--fill-color);\n",
              "      border-top-color: var(--fill-color);\n",
              "      border-right-color: var(--fill-color);\n",
              "    }\n",
              "    40% {\n",
              "      border-color: transparent;\n",
              "      border-right-color: var(--fill-color);\n",
              "      border-top-color: var(--fill-color);\n",
              "    }\n",
              "    60% {\n",
              "      border-color: transparent;\n",
              "      border-right-color: var(--fill-color);\n",
              "    }\n",
              "    80% {\n",
              "      border-color: transparent;\n",
              "      border-right-color: var(--fill-color);\n",
              "      border-bottom-color: var(--fill-color);\n",
              "    }\n",
              "    90% {\n",
              "      border-color: transparent;\n",
              "      border-bottom-color: var(--fill-color);\n",
              "    }\n",
              "  }\n",
              "</style>\n",
              "\n",
              "  <script>\n",
              "    async function quickchart(key) {\n",
              "      const quickchartButtonEl =\n",
              "        document.querySelector('#' + key + ' button');\n",
              "      quickchartButtonEl.disabled = true;  // To prevent multiple clicks.\n",
              "      quickchartButtonEl.classList.add('colab-df-spinner');\n",
              "      try {\n",
              "        const charts = await google.colab.kernel.invokeFunction(\n",
              "            'suggestCharts', [key], {});\n",
              "      } catch (error) {\n",
              "        console.error('Error during call to suggestCharts:', error);\n",
              "      }\n",
              "      quickchartButtonEl.classList.remove('colab-df-spinner');\n",
              "      quickchartButtonEl.classList.add('colab-df-quickchart-complete');\n",
              "    }\n",
              "    (() => {\n",
              "      let quickchartButtonEl =\n",
              "        document.querySelector('#df-2d05acc8-c88d-474e-bbac-a99d15d982d2 button');\n",
              "      quickchartButtonEl.style.display =\n",
              "        google.colab.kernel.accessAllowed ? 'block' : 'none';\n",
              "    })();\n",
              "  </script>\n",
              "</div>\n",
              "    </div>\n",
              "  </div>\n"
            ],
            "application/vnd.google.colaboratory.intrinsic+json": {
              "type": "dataframe",
              "variable_name": "df",
              "summary": "{\n  \"name\": \"df\",\n  \"rows\": 28,\n  \"fields\": [\n    {\n      \"column\": \"\\u0420\\u0435\\u0433\\u0456\\u043e\\u043d\",\n      \"properties\": {\n        \"dtype\": \"string\",\n        \"num_unique_values\": 28,\n        \"samples\": [\n          \"\\u041a\\u0438\\u0457\\u0432\\u0441\\u044c\\u043a\\u0430\",\n          \"\\u041a\\u0438\\u0457\\u0432\",\n          \"\\u0406\\u0432\\u0430\\u043d\\u043e-\\u0424\\u0440\\u0430\\u043d\\u043a\\u0456\\u0432\\u0441\\u044c\\u043a\\u0430\"\n        ],\n        \"semantic_type\": \"\",\n        \"description\": \"\"\n      }\n    },\n    {\n      \"column\": \"1950\",\n      \"properties\": {\n        \"dtype\": \"number\",\n        \"std\": 28.22045084958506,\n        \"min\": 186.0,\n        \"max\": 314.0,\n        \"num_unique_values\": 22,\n        \"samples\": [\n          230.0,\n          241.0,\n          243.0\n        ],\n        \"semantic_type\": \"\",\n        \"description\": \"\"\n      }\n    },\n    {\n      \"column\": \"1960\",\n      \"properties\": {\n        \"dtype\": \"number\",\n        \"std\": 29.36032169490808,\n        \"min\": 163.0,\n        \"max\": 273.0,\n        \"num_unique_values\": 25,\n        \"samples\": [\n          248.0,\n          184.0,\n          206.0\n        ],\n        \"semantic_type\": \"\",\n        \"description\": \"\"\n      }\n    },\n    {\n      \"column\": \"1970\",\n      \"properties\": {\n        \"dtype\": \"number\",\n        \"std\": 18.703565484242883,\n        \"min\": 127.0,\n        \"max\": 207.0,\n        \"num_unique_values\": 23,\n        \"samples\": [\n          131.0,\n          156.0,\n          160.0\n        ],\n        \"semantic_type\": \"\",\n        \"description\": \"\"\n      }\n    },\n    {\n      \"column\": \"1990\",\n      \"properties\": {\n        \"dtype\": \"number\",\n        \"std\": 15,\n        \"min\": 108,\n        \"max\": 168,\n        \"num_unique_values\": 22,\n        \"samples\": [\n          130,\n          158,\n          126\n        ],\n        \"semantic_type\": \"\",\n        \"description\": \"\"\n      }\n    },\n    {\n      \"column\": \"2000\",\n      \"properties\": {\n        \"dtype\": \"number\",\n        \"std\": 15,\n        \"min\": 61,\n        \"max\": 118,\n        \"num_unique_values\": 21,\n        \"samples\": [\n          73,\n          75,\n          68\n        ],\n        \"semantic_type\": \"\",\n        \"description\": \"\"\n      }\n    },\n    {\n      \"column\": \"2012\",\n      \"properties\": {\n        \"dtype\": \"number\",\n        \"std\": 16,\n        \"min\": 94,\n        \"max\": 159,\n        \"num_unique_values\": 23,\n        \"samples\": [\n          97,\n          96,\n          126\n        ],\n        \"semantic_type\": \"\",\n        \"description\": \"\"\n      }\n    },\n    {\n      \"column\": \"2014\",\n      \"properties\": {\n        \"dtype\": \"string\",\n        \"num_unique_values\": 23,\n        \"samples\": [\n          \"100\",\n          \"121\",\n          \"\\u2014\"\n        ],\n        \"semantic_type\": \"\",\n        \"description\": \"\"\n      }\n    },\n    {\n      \"column\": \"2019\",\n      \"properties\": {\n        \"dtype\": \"string\",\n        \"num_unique_values\": 18,\n        \"samples\": [\n          \"\\u2014\",\n          \"76\",\n          \"80\"\n        ],\n        \"semantic_type\": \"\",\n        \"description\": \"\"\n      }\n    }\n  ]\n}"
            }
          },
          "metadata": {},
          "execution_count": 26
        }
      ]
    },
    {
      "cell_type": "markdown",
      "source": [
        "Визначте кількість рядків та стовпців у датафреймі (атрибут shape)"
      ],
      "metadata": {
        "id": "G2KLmoDKGgtx"
      }
    },
    {
      "cell_type": "code",
      "source": [
        "df.shape[0]"
      ],
      "metadata": {
        "colab": {
          "base_uri": "https://localhost:8080/"
        },
        "id": "eQU9NDvuGkMp",
        "outputId": "92b47cc0-5d7b-442f-ff07-0a85c6b4ed5c"
      },
      "execution_count": 27,
      "outputs": [
        {
          "output_type": "execute_result",
          "data": {
            "text/plain": [
              "28"
            ]
          },
          "metadata": {},
          "execution_count": 27
        }
      ]
    },
    {
      "cell_type": "code",
      "source": [
        "df.shape[1]"
      ],
      "metadata": {
        "colab": {
          "base_uri": "https://localhost:8080/"
        },
        "id": "waft2cYmIJKs",
        "outputId": "c10f814c-cbbe-4e73-f1ea-79910beaa684"
      },
      "execution_count": 28,
      "outputs": [
        {
          "output_type": "execute_result",
          "data": {
            "text/plain": [
              "9"
            ]
          },
          "metadata": {},
          "execution_count": 28
        }
      ]
    },
    {
      "cell_type": "markdown",
      "source": [
        "Замініть у таблиці значення \"—\" на значення NaN"
      ],
      "metadata": {
        "id": "4PUMPXB1JJUH"
      }
    },
    {
      "cell_type": "code",
      "source": [
        "df.replace(\"—\", pd.NA, inplace=True)\n",
        "print(df.head())"
      ],
      "metadata": {
        "colab": {
          "base_uri": "https://localhost:8080/"
        },
        "id": "a3csdn-UJOKL",
        "outputId": "f46ce277-3722-49f4-ab6e-58e56fff0c18"
      },
      "execution_count": 29,
      "outputs": [
        {
          "output_type": "stream",
          "name": "stdout",
          "text": [
            "             Регіон   1950   1960   1970  1990  2000  2012  2014  2019\n",
            "0              Крим  230.0  206.0  160.0   130    73   126  <NA>  <NA>\n",
            "1         Вінницька  224.0  192.0  142.0   124    84   112   109    76\n",
            "2         Волинська  247.0  250.0  179.0   153   112   148   141   101\n",
            "3  Дніпропетровська  204.0  204.0  151.0   123    71   112   111    71\n",
            "4          Донецька  271.0  214.0  140.0   109    61    98    82  <NA>\n"
          ]
        }
      ]
    },
    {
      "cell_type": "markdown",
      "source": [
        "Визначте типи всіх стовпців за допомогою dataframe.dtypes"
      ],
      "metadata": {
        "id": "XRFqxeElK8kj"
      }
    },
    {
      "cell_type": "code",
      "source": [
        "print(df.dtypes)"
      ],
      "metadata": {
        "colab": {
          "base_uri": "https://localhost:8080/"
        },
        "id": "Bga2ySJEK92r",
        "outputId": "489e13b8-a8f6-4dd6-e5bb-2abda4ffb777"
      },
      "execution_count": 30,
      "outputs": [
        {
          "output_type": "stream",
          "name": "stdout",
          "text": [
            "Регіон     object\n",
            "1950      float64\n",
            "1960      float64\n",
            "1970      float64\n",
            "1990        int64\n",
            "2000        int64\n",
            "2012        int64\n",
            "2014       object\n",
            "2019       object\n",
            "dtype: object\n"
          ]
        }
      ]
    },
    {
      "cell_type": "markdown",
      "source": [
        "Замініть типи нечислових колонок на числові. Підказка - це колонки, де знаходився символ \"—\""
      ],
      "metadata": {
        "id": "2xycoMlvL8Vi"
      }
    },
    {
      "cell_type": "code",
      "source": [
        "regions_column = df['Регіон']\n",
        "df = df.drop(columns=['Регіон'])\n",
        "df = df.apply(pd.to_numeric, errors='coerce')\n",
        "df = df.astype(float)\n",
        "df.insert(0, 'Регіон', regions_column)\n",
        "print(df.dtypes)\n",
        "print(df.head())"
      ],
      "metadata": {
        "colab": {
          "base_uri": "https://localhost:8080/"
        },
        "id": "glI2nBmiL9yM",
        "outputId": "66eaa8cf-4dc1-47c2-ea2d-0ff7816cca85"
      },
      "execution_count": 31,
      "outputs": [
        {
          "output_type": "stream",
          "name": "stdout",
          "text": [
            "Регіон     object\n",
            "1950      float64\n",
            "1960      float64\n",
            "1970      float64\n",
            "1990      float64\n",
            "2000      float64\n",
            "2012      float64\n",
            "2014      float64\n",
            "2019      float64\n",
            "dtype: object\n",
            "             Регіон   1950   1960   1970   1990   2000   2012   2014   2019\n",
            "0              Крим  230.0  206.0  160.0  130.0   73.0  126.0    NaN    NaN\n",
            "1         Вінницька  224.0  192.0  142.0  124.0   84.0  112.0  109.0   76.0\n",
            "2         Волинська  247.0  250.0  179.0  153.0  112.0  148.0  141.0  101.0\n",
            "3  Дніпропетровська  204.0  204.0  151.0  123.0   71.0  112.0  111.0   71.0\n",
            "4          Донецька  271.0  214.0  140.0  109.0   61.0   98.0   82.0    NaN\n"
          ]
        }
      ]
    },
    {
      "cell_type": "markdown",
      "source": [
        "User\n",
        "Порахуйте, яка частка пропусків міститься в кожній колонці (використовуйте методи isnull та sum)."
      ],
      "metadata": {
        "id": "rqL-YnKQM0iZ"
      }
    },
    {
      "cell_type": "code",
      "source": [
        "# Помножив на сто, щоб мати відсотки\n",
        "missing_values_ratio = (df.isnull().sum() / len(df))*100\n",
        "print(missing_values_ratio)"
      ],
      "metadata": {
        "colab": {
          "base_uri": "https://localhost:8080/"
        },
        "id": "fONgxRO9M3-i",
        "outputId": "c1d07cdf-7013-4588-b59f-961f1d9b9b75"
      },
      "execution_count": 32,
      "outputs": [
        {
          "output_type": "stream",
          "name": "stdout",
          "text": [
            "Регіон     0.000000\n",
            "1950       7.142857\n",
            "1960       3.571429\n",
            "1970       3.571429\n",
            "1990       0.000000\n",
            "2000       0.000000\n",
            "2012       0.000000\n",
            "2014       7.142857\n",
            "2019      14.285714\n",
            "dtype: float64\n"
          ]
        }
      ]
    },
    {
      "cell_type": "markdown",
      "source": [
        "Видаліть з таблиці дані по всій країні, останній рядок таблиціВидаліть з таблиці дані по всій країні, останній рядок таблиці"
      ],
      "metadata": {
        "id": "d5jiJsmfOX4x"
      }
    },
    {
      "cell_type": "code",
      "source": [
        "df.drop(df.index[-1], inplace=True)\n",
        "print(df)"
      ],
      "metadata": {
        "colab": {
          "base_uri": "https://localhost:8080/"
        },
        "id": "uv8Ezn0SOZDS",
        "outputId": "7161a698-7667-46f3-ba46-ae68c56bcb8d"
      },
      "execution_count": 33,
      "outputs": [
        {
          "output_type": "stream",
          "name": "stdout",
          "text": [
            "               Регіон   1950   1960   1970   1990   2000   2012   2014   2019\n",
            "0                Крим  230.0  206.0  160.0  130.0   73.0  126.0    NaN    NaN\n",
            "1           Вінницька  224.0  192.0  142.0  124.0   84.0  112.0  109.0   76.0\n",
            "2           Волинська  247.0  250.0  179.0  153.0  112.0  148.0  141.0  101.0\n",
            "3    Дніпропетровська  204.0  204.0  151.0  123.0   71.0  112.0  111.0   71.0\n",
            "4            Донецька  271.0  214.0  140.0  109.0   61.0   98.0   82.0    NaN\n",
            "5         Житомирська  261.0  223.0  159.0  129.0   89.0  122.0  120.0   79.0\n",
            "6        Закарпатська  314.0  273.0  207.0  168.0  115.0  151.0  146.0  104.0\n",
            "7          Запорізька  219.0  197.0  150.0  124.0   71.0  106.0  106.0   68.0\n",
            "8   Івано-Франківська  243.0  248.0  182.0  155.0  103.0  124.0  122.0   88.0\n",
            "9            Київська  204.0  189.0  156.0  123.0   73.0  122.0  121.0   80.0\n",
            "10     Кіровоградська  216.0  171.0  145.0  126.0   79.0  110.0  108.0   68.0\n",
            "11          Луганська  262.0  235.0  144.0  116.0   62.0   96.0   51.0    NaN\n",
            "12          Львівська  234.0  240.0  171.0  140.0   91.0  119.0  119.0   87.0\n",
            "13       Миколаївська  211.0  194.0  155.0  137.0   80.0  115.0  112.0   71.0\n",
            "14            Одеська  241.0  192.0  148.0  126.0   80.0  127.0  123.0   88.0\n",
            "15         Полтавська  186.0  163.0  131.0  118.0   70.0   99.0  100.0   65.0\n",
            "16         Рівненська  269.0  267.0  193.0  158.0  118.0  159.0  148.0  107.0\n",
            "17            Сумська  216.0  184.0  132.0  115.0   70.0   97.0   92.0   60.0\n",
            "18      Тернопільська  213.0  216.0  157.0  142.0   92.0  113.0  109.0   76.0\n",
            "19         Харківська  197.0  173.0  140.0  114.0   68.0   99.0  101.0   68.0\n",
            "20         Херсонська  208.0  214.0  166.0  143.0   85.0  117.0  115.0   81.0\n",
            "21        Хмельницька  234.0  198.0  148.0  129.0   85.0  113.0  112.0   79.0\n",
            "22          Черкаська  205.0  179.0  144.0  123.0   75.0  100.0   98.0   64.0\n",
            "23        Чернівецька  247.0  218.0  170.0  148.0  101.0  128.0  129.0   92.0\n",
            "24       Чернігівська  220.0  183.0  127.0  108.0   69.0   94.0   90.0   61.0\n",
            "25               Київ    NaN  174.0  159.0  120.0   73.0  120.0  121.0  110.0\n",
            "26        Севастополь    NaN    NaN    NaN  125.0   70.0  120.0    NaN    NaN\n"
          ]
        }
      ]
    },
    {
      "cell_type": "markdown",
      "source": [
        "Замініть відсутні дані в стовпцях середніми значеннями цих стовпців (метод fillna)"
      ],
      "metadata": {
        "id": "vTX9gl7GOvdV"
      }
    },
    {
      "cell_type": "code",
      "source": [
        "regions_column = df['Регіон']\n",
        "df = df.drop(columns=['Регіон'])\n",
        "df = df.fillna(df.mean())\n",
        "df = df.apply(pd.to_numeric)\n",
        "df.insert(0, 'Регіон', regions_column)\n",
        "print(df)"
      ],
      "metadata": {
        "colab": {
          "base_uri": "https://localhost:8080/"
        },
        "id": "bJqKDn_hOx7r",
        "outputId": "24a1eaae-df2a-4a9d-999c-b1506822058d"
      },
      "execution_count": 34,
      "outputs": [
        {
          "output_type": "stream",
          "name": "stdout",
          "text": [
            "               Регіон    1950        1960   1970   1990   2000   2012    2014  \\\n",
            "0                Крим  230.00  206.000000  160.0  130.0   73.0  126.0  111.44   \n",
            "1           Вінницька  224.00  192.000000  142.0  124.0   84.0  112.0  109.00   \n",
            "2           Волинська  247.00  250.000000  179.0  153.0  112.0  148.0  141.00   \n",
            "3    Дніпропетровська  204.00  204.000000  151.0  123.0   71.0  112.0  111.00   \n",
            "4            Донецька  271.00  214.000000  140.0  109.0   61.0   98.0   82.00   \n",
            "5         Житомирська  261.00  223.000000  159.0  129.0   89.0  122.0  120.00   \n",
            "6        Закарпатська  314.00  273.000000  207.0  168.0  115.0  151.0  146.00   \n",
            "7          Запорізька  219.00  197.000000  150.0  124.0   71.0  106.0  106.00   \n",
            "8   Івано-Франківська  243.00  248.000000  182.0  155.0  103.0  124.0  122.00   \n",
            "9            Київська  204.00  189.000000  156.0  123.0   73.0  122.0  121.00   \n",
            "10     Кіровоградська  216.00  171.000000  145.0  126.0   79.0  110.0  108.00   \n",
            "11          Луганська  262.00  235.000000  144.0  116.0   62.0   96.0   51.00   \n",
            "12          Львівська  234.00  240.000000  171.0  140.0   91.0  119.0  119.00   \n",
            "13       Миколаївська  211.00  194.000000  155.0  137.0   80.0  115.0  112.00   \n",
            "14            Одеська  241.00  192.000000  148.0  126.0   80.0  127.0  123.00   \n",
            "15         Полтавська  186.00  163.000000  131.0  118.0   70.0   99.0  100.00   \n",
            "16         Рівненська  269.00  267.000000  193.0  158.0  118.0  159.0  148.00   \n",
            "17            Сумська  216.00  184.000000  132.0  115.0   70.0   97.0   92.00   \n",
            "18      Тернопільська  213.00  216.000000  157.0  142.0   92.0  113.0  109.00   \n",
            "19         Харківська  197.00  173.000000  140.0  114.0   68.0   99.0  101.00   \n",
            "20         Херсонська  208.00  214.000000  166.0  143.0   85.0  117.0  115.00   \n",
            "21        Хмельницька  234.00  198.000000  148.0  129.0   85.0  113.0  112.00   \n",
            "22          Черкаська  205.00  179.000000  144.0  123.0   75.0  100.0   98.00   \n",
            "23        Чернівецька  247.00  218.000000  170.0  148.0  101.0  128.0  129.00   \n",
            "24       Чернігівська  220.00  183.000000  127.0  108.0   69.0   94.0   90.00   \n",
            "25               Київ  231.04  174.000000  159.0  120.0   73.0  120.0  121.00   \n",
            "26        Севастополь  231.04  207.576923  156.0  125.0   70.0  120.0  111.44   \n",
            "\n",
            "          2019  \n",
            "0    80.173913  \n",
            "1    76.000000  \n",
            "2   101.000000  \n",
            "3    71.000000  \n",
            "4    80.173913  \n",
            "5    79.000000  \n",
            "6   104.000000  \n",
            "7    68.000000  \n",
            "8    88.000000  \n",
            "9    80.000000  \n",
            "10   68.000000  \n",
            "11   80.173913  \n",
            "12   87.000000  \n",
            "13   71.000000  \n",
            "14   88.000000  \n",
            "15   65.000000  \n",
            "16  107.000000  \n",
            "17   60.000000  \n",
            "18   76.000000  \n",
            "19   68.000000  \n",
            "20   81.000000  \n",
            "21   79.000000  \n",
            "22   64.000000  \n",
            "23   92.000000  \n",
            "24   61.000000  \n",
            "25  110.000000  \n",
            "26   80.173913  \n"
          ]
        }
      ]
    },
    {
      "cell_type": "markdown",
      "source": [
        "Отримайте список регіонів, де рівень народжуваності у 2019 році був вищим за середній по Україні"
      ],
      "metadata": {
        "id": "1jLCn8E4PTII"
      }
    },
    {
      "cell_type": "code",
      "source": [
        "# Я так зрозумів, що не за весь час, а саме за 2019 рік, по Україні\n",
        "average_birth_rate_2019 = df['2019'].mean()\n",
        "regions_above_average = df[df['2019'] > average_birth_rate_2019]['Регіон']\n",
        "print(regions_above_average)"
      ],
      "metadata": {
        "colab": {
          "base_uri": "https://localhost:8080/"
        },
        "id": "y6V_bPOuPUMV",
        "outputId": "f7a7c4b3-8633-401b-e407-351feb8c18b9"
      },
      "execution_count": 35,
      "outputs": [
        {
          "output_type": "stream",
          "name": "stdout",
          "text": [
            "2             Волинська\n",
            "6          Закарпатська\n",
            "8     Івано-Франківська\n",
            "12            Львівська\n",
            "14              Одеська\n",
            "16           Рівненська\n",
            "20           Херсонська\n",
            "23          Чернівецька\n",
            "25                 Київ\n",
            "Name: Регіон, dtype: object\n"
          ]
        }
      ]
    },
    {
      "cell_type": "markdown",
      "source": [
        "У якому регіоні була найвища народжуваність у 2014 році?"
      ],
      "metadata": {
        "id": "g5d_Qw6wZnn0"
      }
    },
    {
      "cell_type": "code",
      "source": [
        "max_births_2014_index = df['2014'].idxmax()\n",
        "region_with_max_births_2014 = df.loc[max_births_2014_index, 'Регіон']\n",
        "print(region_with_max_births_2014)"
      ],
      "metadata": {
        "colab": {
          "base_uri": "https://localhost:8080/"
        },
        "id": "KpJ8EipGZusl",
        "outputId": "46d693d4-4367-41b2-b6a1-dba005e36344"
      },
      "execution_count": 36,
      "outputs": [
        {
          "output_type": "stream",
          "name": "stdout",
          "text": [
            "Рівненська\n"
          ]
        }
      ]
    },
    {
      "cell_type": "markdown",
      "source": [
        "User\n",
        "Побудуйте стовпчикову діаграму народжуваності по регіонах у 2019 році"
      ],
      "metadata": {
        "id": "LRUBiSlQaYpr"
      }
    },
    {
      "cell_type": "code",
      "source": [
        "births_2019 = df['2019']\n",
        "regions = df['Регіон']\n",
        "plt.figure(figsize=(10, 6))\n",
        "plt.bar(regions, births_2019, color='DarkSlateGrey')\n",
        "plt.xlabel('Регіон')\n",
        "plt.ylabel('Кількість народжених у 2019 році')\n",
        "plt.title('Народжуваність по регіонах у 2019 році')\n",
        "plt.xticks(rotation=90)\n",
        "plt.tight_layout()\n",
        "plt.show()"
      ],
      "metadata": {
        "colab": {
          "base_uri": "https://localhost:8080/",
          "height": 607
        },
        "id": "JbUbxIkJabyc",
        "outputId": "ad7b6825-ae93-4879-dffa-e63a7a7d66dc"
      },
      "execution_count": 38,
      "outputs": [
        {
          "output_type": "display_data",
          "data": {
            "text/plain": [
              "<Figure size 1000x600 with 1 Axes>"
            ],
            "image/png": "[encoded data removed]"
          },
          "metadata": {}
        }
      ]
    },
    {
      "cell_type": "markdown",
      "source": [
        "Додаткові графіки"
      ],
      "metadata": {
        "id": "gTO-TDkA1QTN"
      }
    },
    {
      "cell_type": "code",
      "source": [
        "mean_births_by_year = df.drop(columns=['Регіон']).mean(axis=0)\n",
        "plt.figure(figsize=(10, 6))\n",
        "plt.plot(mean_births_by_year.index, mean_births_by_year.values, marker='o', linestyle='-')\n",
        "plt.xlabel('Рік')\n",
        "plt.ylabel('Середня народжуваність')\n",
        "plt.title('Динаміка середньої народжуваності за роками')\n",
        "plt.grid(True)\n",
        "plt.show()\n"
      ],
      "metadata": {
        "colab": {
          "base_uri": "https://localhost:8080/",
          "height": 564
        },
        "id": "H-Lzzjx239XJ",
        "outputId": "5ca6069a-9283-44d3-882b-bdd3e6e0e466"
      },
      "execution_count": 45,
      "outputs": [
        {
          "output_type": "display_data",
          "data": {
            "text/plain": [
              "<Figure size 1000x600 with 1 Axes>"
            ],
            "image/png": "[encoded data removed]"
          },
          "metadata": {}
        }
      ]
    },
    {
      "cell_type": "code",
      "source": [
        "region1 = df.loc[df['Регіон'] == 'Тернопільська']\n",
        "region2 = df.loc[df['Регіон'] == 'Сумська']\n",
        "\n",
        "years = region1.columns[1:]\n",
        "\n",
        "plt.figure(figsize=(10, 6))\n",
        "plt.plot(years, region1.values[0][1:], marker='o', linestyle='-', label=region1['Регіон'].values[0])\n",
        "plt.plot(years, region2.values[0][1:], marker='o', linestyle='-', label=region2['Регіон'].values[0])\n",
        "\n",
        "plt.xlabel('Рік')\n",
        "plt.ylabel('Кількість народжених')\n",
        "plt.title('Порівняння народжуваності у Тернопільській та Сумській областях')\n",
        "plt.legend()\n",
        "plt.grid(True)\n",
        "plt.show()\n"
      ],
      "metadata": {
        "colab": {
          "base_uri": "https://localhost:8080/",
          "height": 564
        },
        "id": "leR8_7aY6WxJ",
        "outputId": "3d53953f-34de-4415-9957-81f4876ec76c"
      },
      "execution_count": 47,
      "outputs": [
        {
          "output_type": "display_data",
          "data": {
            "text/plain": [
              "<Figure size 1000x600 with 1 Axes>"
            ],
            "image/png": "[encoded data removed]"
          },
          "metadata": {}
        }
      ]
    }
  ]
}