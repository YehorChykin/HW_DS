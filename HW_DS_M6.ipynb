{
  "nbformat": 4,
  "nbformat_minor": 0,
  "metadata": {
    "colab": {
      "provenance": [],
      "toc_visible": true,
      "authorship_tag": "ABX9TyPOorqEdx+WymxDqq/JJ6Zd",
      "include_colab_link": true
    },
    "kernelspec": {
      "name": "python3",
      "display_name": "Python 3"
    },
    "language_info": {
      "name": "python"
    }
  },
  "cells": [
    {
      "cell_type": "markdown",
      "metadata": {
        "id": "view-in-github",
        "colab_type": "text"
      },
      "source": [
        "<a href=\"https://colab.research.google.com/github/YehorChykin/HW_DS/blob/main/HW_DS_M6.ipynb\" target=\"_parent\"><img src=\"https://colab.research.google.com/assets/colab-badge.svg\" alt=\"Open In Colab\"/></a>"
      ]
    },
    {
      "cell_type": "markdown",
      "source": [
        "Імпортуємо"
      ],
      "metadata": {
        "id": "OHxJvIgO4mbt"
      }
    },
    {
      "cell_type": "code",
      "source": [
        "import pandas as pd\n",
        "import numpy as np\n",
        "import matplotlib.pyplot as plt\n",
        "from sklearn.preprocessing import StandardScaler\n",
        "from sklearn.linear_model import LinearRegression\n",
        "from sklearn.metrics import mean_squared_error\n",
        "from sklearn.model_selection import train_test_split\n",
        "from google.colab import drive\n",
        "drive.mount('/content/drive')"
      ],
      "metadata": {
        "colab": {
          "base_uri": "https://localhost:8080/"
        },
        "id": "gNommq5-4pci",
        "outputId": "8b780651-9d48-4338-8799-91a680f8b334"
      },
      "execution_count": 36,
      "outputs": [
        {
          "output_type": "stream",
          "name": "stdout",
          "text": [
            "Drive already mounted at /content/drive; to attempt to forcibly remount, call drive.mount(\"/content/drive\", force_remount=True).\n"
          ]
        }
      ]
    },
    {
      "cell_type": "markdown",
      "source": [
        "Читаємо фрейм"
      ],
      "metadata": {
        "id": "oGJOGzQxHC_W"
      }
    },
    {
      "cell_type": "code",
      "source": [
        "df = pd.read_csv(\"/content/drive/MyDrive/DS_and_ML/Housing.csv\")\n",
        "print(df.head())\n",
        "print(df.shape)"
      ],
      "metadata": {
        "colab": {
          "base_uri": "https://localhost:8080/"
        },
        "id": "gPN73rnIHFH1",
        "outputId": "c1000761-4e6e-4af8-8db0-d730400d88fa"
      },
      "execution_count": 37,
      "outputs": [
        {
          "output_type": "stream",
          "name": "stdout",
          "text": [
            "      price  area  bedrooms  bathrooms  stories mainroad guestroom basement  \\\n",
            "0  13300000  7420         4          2        3      yes        no       no   \n",
            "1  12250000  8960         4          4        4      yes        no       no   \n",
            "2  12250000  9960         3          2        2      yes        no      yes   \n",
            "3  12215000  7500         4          2        2      yes        no      yes   \n",
            "4  11410000  7420         4          1        2      yes       yes      yes   \n",
            "\n",
            "  hotwaterheating airconditioning  parking prefarea furnishingstatus  \n",
            "0              no             yes        2      yes        furnished  \n",
            "1              no             yes        3       no        furnished  \n",
            "2              no              no        2      yes   semi-furnished  \n",
            "3              no             yes        3      yes        furnished  \n",
            "4              no             yes        2       no        furnished  \n",
            "(545, 13)\n"
          ]
        }
      ]
    },
    {
      "cell_type": "markdown",
      "source": [
        "напишіть функцію гіпотези лінійної регресії у векторному вигляді;"
      ],
      "metadata": {
        "id": "yZdvwhdo4uWR"
      }
    },
    {
      "cell_type": "code",
      "source": [
        "def hypothesis(theta, X):\n",
        "    return np.dot(X, theta)"
      ],
      "metadata": {
        "id": "wBG7MPXW4wr8"
      },
      "execution_count": 38,
      "outputs": []
    },
    {
      "cell_type": "markdown",
      "source": [
        "створіть функцію для обчислення функції втрат у векторному вигляді;"
      ],
      "metadata": {
        "id": "kR7GG8ZT9D46"
      }
    },
    {
      "cell_type": "code",
      "source": [
        "def compute_cost(theta, X, y):\n",
        "    m = len(y)\n",
        "    h = hypothesis(theta, X)\n",
        "    J = np.sum((h - y)**2) / (2 * m)\n",
        "    return J"
      ],
      "metadata": {
        "id": "NCQL-ADb9EeB"
      },
      "execution_count": 39,
      "outputs": []
    },
    {
      "cell_type": "markdown",
      "source": [
        "реалізуйте один крок градієнтного спуску;"
      ],
      "metadata": {
        "id": "iTO5Au7d9M6b"
      }
    },
    {
      "cell_type": "code",
      "source": [
        "def gradient_descent_step(theta, X, y, learning_rate):\n",
        "    m = len(y)  # Кількість прикладів у навчальному наборі\n",
        "    h = hypothesis(theta, X)  # Обчислюємо гіпотезу лінійної регресії\n",
        "    gradient = np.dot(X.T, (h - y)) / m  # Обчислюємо градієнт функції втрат\n",
        "    theta -= learning_rate * gradient  # Оновлюємо параметри theta\n",
        "    return theta"
      ],
      "metadata": {
        "id": "-A_RViL79NYM"
      },
      "execution_count": 40,
      "outputs": []
    },
    {
      "cell_type": "markdown",
      "source": [
        "або:"
      ],
      "metadata": {
        "id": "aHrABZuu-_T9"
      }
    },
    {
      "cell_type": "code",
      "source": [
        "def gradient_descent_step(theta, X, y, alpha):\n",
        "    m = len(y)\n",
        "    h = hypothesis(theta, X)\n",
        "    gradient = np.dot(X.T, (h - y)) / m\n",
        "    new_theta  = theta - alpha * gradient\n",
        "    return new_theta\n"
      ],
      "metadata": {
        "id": "SNIn-L4W_Bhy"
      },
      "execution_count": 41,
      "outputs": []
    },
    {
      "cell_type": "markdown",
      "source": [
        "знайдіть найкращі параметри w⃗\n",
        " для датасету використовуючи написані вами функції, прогнозуючу ціну на будинок залежно від площі, кількості ванних кімнат та кількості спалень;"
      ],
      "metadata": {
        "id": "VPZYvXY__ZBO"
      }
    },
    {
      "cell_type": "code",
      "source": [
        "# Вибираємо фічі та цільову змінну\n",
        "X = df[['area', 'bedrooms', 'bathrooms']].values\n",
        "y = df['price'].values\n",
        "\n",
        "# Нормалізуємо дані\n",
        "scaler = StandardScaler()\n",
        "X_normalized = scaler.fit_transform(X)\n",
        "\n",
        "scaler_y = StandardScaler()\n",
        "y_normalized = scaler_y.fit_transform(y.reshape(-1, 1)).flatten()\n",
        "\n",
        "# Додаємо стовпець з одиницями для параметра theta0\n",
        "X_normalized = np.concatenate([np.ones((X_normalized.shape[0], 1)), X_normalized], axis=1)\n",
        "\n",
        "def gradient_descent(theta, X, y, learning_rate, iterations):\n",
        "    m = len(y)\n",
        "    costs = []  # Зберігатимемо значення функції втрат на кожній ітерації\n",
        "\n",
        "    for _ in range(iterations):\n",
        "        # Обчислюємо гіпотезу\n",
        "        h = hypothesis(theta, X)\n",
        "\n",
        "        # Обчислюємо градієнт та оновлюємо параметри theta\n",
        "        theta = gradient_descent_step(theta, X, y, learning_rate)\n",
        "\n",
        "        # Обчислюємо функцію втрат та зберігаємо її значення\n",
        "        cost = compute_cost(theta, X, y)\n",
        "        costs.append(cost)\n",
        "\n",
        "    return theta, costs\n",
        "\n",
        "# Налаштуємо параметри градієнтного спуску\n",
        "learning_rate = 0.00000001\n",
        "iterations = 1000\n",
        "\n",
        "# Запускаємо градієнтний спуск\n",
        "theta_optimal, costs = gradient_descent(np.zeros(X_normalized.shape[1]), X_normalized, y, learning_rate, iterations)\n",
        "# Денормалізація для градієнтного спуску\n",
        "intercept_gradient_descent = scaler_y.inverse_transform(np.array([theta_optimal[0]]).reshape(1, -1))\n",
        "print(\"Денормалізоване значення інтерсепту (градієнтний спуск):\", intercept_gradient_descent[0][0])\n",
        "\n",
        "# Виводимо оптимальні параметри theta\n",
        "print(\"Оптимальні параметри theta:\", theta_optimal)\n"
      ],
      "metadata": {
        "colab": {
          "base_uri": "https://localhost:8080/"
        },
        "id": "VarukTEdL7FR",
        "outputId": "265f0443-24be-432f-a3f7-f286c5096143"
      },
      "execution_count": 55,
      "outputs": [
        {
          "output_type": "stream",
          "name": "stdout",
          "text": [
            "Денормалізоване значення інтерсепту (градієнтний спуск): 93843241.91688022\n",
            "Оптимальні параметри theta: [47.66705438 10.01624017  6.84869765  9.67141711]\n"
          ]
        }
      ]
    },
    {
      "cell_type": "markdown",
      "source": [
        "знайдіть ці ж параметри за допомогою аналітичного рішення;"
      ],
      "metadata": {
        "id": "b0AhgazEPG32"
      }
    },
    {
      "cell_type": "code",
      "source": [
        "def normalize_data(X, y):\n",
        "    # Нормалізуємо ознаки X\n",
        "    scaler_X = StandardScaler()\n",
        "    X_normalized = scaler_X.fit_transform(X)\n",
        "\n",
        "    # Нормалізуємо цільову змінну y\n",
        "    scaler_y = StandardScaler()\n",
        "    y_normalized = scaler_y.fit_transform(y.reshape(-1, 1)).flatten()\n",
        "\n",
        "    return X_normalized, y_normalized\n",
        "\n",
        "# Вибираємо фічі та цільову змінну\n",
        "X = df[['area', 'bedrooms', 'bathrooms']].values\n",
        "y = df['price'].values\n",
        "\n",
        "# Нормалізуємо дані\n",
        "X_normalized, y_normalized = normalize_data(X, y)\n",
        "\n",
        "# Додаємо стовпець з одиницями для параметра theta0\n",
        "X_normalized = np.concatenate([np.ones((X_normalized.shape[0], 1)), X_normalized], axis=1)\n",
        "\n",
        "# Обчислюємо оптимальні параметри за допомогою аналітичного рішення\n",
        "theta_optimal = np.linalg.inv(X_normalized.T.dot(X_normalized)).dot(X_normalized.T).dot(y_normalized)\n",
        "\n",
        "# Денормалізація для аналітичного рішення\n",
        "intercept_analytical_solution = scaler_y.inverse_transform(np.array([theta_optimal[0]]).reshape(1, -1))\n",
        "\n",
        "print(\"Денормалізоване значення інтерсепту (аналітичний рішення):\", intercept_analytical_solution[0][0])\n",
        "\n",
        "print(\"Оптимальні параметри theta:\", theta_optimal)\n"
      ],
      "metadata": {
        "colab": {
          "base_uri": "https://localhost:8080/"
        },
        "id": "J6iilasrPHrB",
        "outputId": "7a9ae3af-5f1a-4e5d-d240-b8acd3b4197d"
      },
      "execution_count": 57,
      "outputs": [
        {
          "output_type": "stream",
          "name": "stdout",
          "text": [
            "Денормалізоване значення інтерсепту (аналітичний рішення): 4766729.247706423\n",
            "Оптимальні параметри theta: [6.82595372e-16 4.39452085e-01 1.60528660e-01 3.72344423e-01]\n"
          ]
        }
      ]
    },
    {
      "cell_type": "markdown",
      "source": [
        "для перевірки спрогнозованих значень, використайте LinearRegression з бібліотеки scikit-learn та порівняйте результати."
      ],
      "metadata": {
        "id": "MqNRMLV0SM94"
      }
    },
    {
      "cell_type": "code",
      "source": [
        "# Розділимо дані на навчальний та тестовий набори\n",
        "X_train, X_test, y_train, y_test = train_test_split(X, y, test_size=0.2, random_state=42)\n",
        "\n",
        "# Створимо та навчимо модель лінійної регресії на навчальних даних\n",
        "model = LinearRegression()\n",
        "model.fit(X_train, y_train)\n",
        "\n",
        "# Зробимо прогнози на тестових даних\n",
        "y_pred = model.predict(X_test)\n",
        "\n",
        "# Виведемо оптимальні параметри theta для порівняння\n",
        "print(\"Оптимальні параметри theta (градієнтний спуск):\", theta_optimal)\n",
        "print(\"Оптимальні параметри theta (аналітичний рішення):\", model.coef_, model.intercept_)\n",
        "\n",
        "# Оцінимо точність моделі за допомогою середньо квадратичної помилки (MSE)\n",
        "mse = mean_squared_error(y_test, y_pred)\n",
        "print(\"Середньо квадратична помилка (MSE):\", mse)\n"
      ],
      "metadata": {
        "colab": {
          "base_uri": "https://localhost:8080/"
        },
        "id": "4CxNuIvYSNor",
        "outputId": "c68c855e-aab7-43c0-bcad-eb33d2aea30e"
      },
      "execution_count": 67,
      "outputs": [
        {
          "output_type": "stream",
          "name": "stdout",
          "text": [
            "Оптимальні параметри theta (градієнтний спуск): [6.82595372e-16 4.39452085e-01 1.60528660e-01 3.72344423e-01]\n",
            "Оптимальні параметри theta (аналітичний рішення): [3.45466570e+02 3.60197650e+05 1.42231966e+06] 59485.379208717495\n",
            "Середньо квадратична помилка (MSE): 2750040479309.0522\n"
          ]
        }
      ]
    },
    {
      "cell_type": "code",
      "source": [
        "# Створимо та навчимо модель лінійної регресії на нормалізованих даних\n",
        "model = LinearRegression()\n",
        "model.fit(X_normalized, y_normalized)\n",
        "\n",
        "# Отримаємо оптимальні параметри моделі\n",
        "coef_normalized = model.coef_\n",
        "intercept_normalized = model.intercept_\n",
        "\n",
        "# Денормалізуємо параметри (інтерсепт)\n",
        "intercept_denormalized = scaler_y.inverse_transform(np.array([intercept_normalized]).reshape(1, -1))\n",
        "\n",
        "print(\"Оптимальні параметри theta (LinearRegression, нормалізовані):\", coef_normalized)\n",
        "print(\"Денормалізоване значення інтерсепту (LinearRegression):\", intercept_denormalized[0][0])\n",
        "\n",
        "# Передбачення на нормалізованих даних\n",
        "y_pred_normalized = model.predict(X_normalized)\n",
        "\n",
        "# Переведемо передбачення назад у вихідні одиниці\n",
        "y_pred_denormalized = scaler_y.inverse_transform(y_pred_normalized.reshape(-1, 1)).flatten()\n",
        "\n",
        "# Обчислимо середньо квадратичну помилку (MSE) на нормалізованих даних\n",
        "mse_normalized = mean_squared_error(y, y_pred_denormalized)\n",
        "print(\"Середньо квадратична помилка (MSE) (LinearRegression, нормалізовані дані):\", mse_normalized)\n"
      ],
      "metadata": {
        "colab": {
          "base_uri": "https://localhost:8080/"
        },
        "id": "TgH4uOBLnGY7",
        "outputId": "338a0dfe-27b7-45b6-afb9-7e59393f6418"
      },
      "execution_count": 71,
      "outputs": [
        {
          "output_type": "stream",
          "name": "stdout",
          "text": [
            "Оптимальні параметри theta (LinearRegression, нормалізовані): [0.         0.43945209 0.16052866 0.37234442]\n",
            "Денормалізоване значення інтерсепту (LinearRegression): 4766729.247706423\n",
            "Середньо квадратична помилка (MSE) (LinearRegression, нормалізовані дані): 1791170049977.3193\n"
          ]
        }
      ]
    },
    {
      "cell_type": "markdown",
      "source": [
        "Ще раз"
      ],
      "metadata": {
        "id": "A1lKfGsnr_mc"
      }
    },
    {
      "cell_type": "code",
      "source": [
        "\n",
        "\n",
        "\n",
        "# Створимо та навчимо модель лінійної регресії на нормалізованих даних\n",
        "model = LinearRegression()\n",
        "model.fit(X_normalized, y_normalized)\n",
        "\n",
        "# Отримаємо оптимальні параметри моделі\n",
        "coef_normalized = model.coef_\n",
        "intercept_normalized = model.intercept_\n",
        "\n",
        "# Денормалізуємо параметри (інтерсепт)\n",
        "intercept_denormalized = scaler_y.inverse_transform([[intercept_normalized]])[0]\n",
        "\n",
        "print(\"Оптимальні параметри theta (LinearRegression, нормалізовані):\", coef_normalized)\n",
        "print(\"Денормалізоване значення інтерсепту (LinearRegression):\", intercept_denormalized)\n",
        "\n",
        "# Передбачення на нормалізованих даних\n",
        "y_pred_normalized = model.predict(X_normalized)\n",
        "\n",
        "# Переведемо передбачення назад у вихідні одиниці\n",
        "y_pred_denormalized = scaler_y.inverse_transform(y_pred_normalized.reshape(-1, 1)).flatten()\n",
        "\n",
        "# Обчислимо середньо квадратичну помилку (MSE) на нормалізованих даних\n",
        "mse_normalized = mean_squared_error(y, y_pred_denormalized)\n",
        "print(\"Середньо квадратична помилка (MSE) (LinearRegression, нормалізовані дані):\", mse_normalized)\n"
      ],
      "metadata": {
        "colab": {
          "base_uri": "https://localhost:8080/"
        },
        "id": "QFTvDBOQs2JI",
        "outputId": "1a1d91ee-3865-442f-eaaf-a2ceb64d4c13"
      },
      "execution_count": 75,
      "outputs": [
        {
          "output_type": "stream",
          "name": "stdout",
          "text": [
            "Оптимальні параметри theta (LinearRegression, нормалізовані): [0.         0.43945209 0.16052866 0.37234442]\n",
            "Денормалізоване значення інтерсепту (LinearRegression): [4766729.24770642]\n",
            "Середньо квадратична помилка (MSE) (LinearRegression, нормалізовані дані): 1791170049977.3193\n"
          ]
        }
      ]
    }
  ]
}