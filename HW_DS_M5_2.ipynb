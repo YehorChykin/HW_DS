{
  "nbformat": 4,
  "nbformat_minor": 0,
  "metadata": {
    "colab": {
      "provenance": [],
      "authorship_tag": "ABX9TyPtd8KgSXgoj+wdc2S30Z+G",
      "include_colab_link": true
    },
    "kernelspec": {
      "name": "python3",
      "display_name": "Python 3"
    },
    "language_info": {
      "name": "python"
    }
  },
  "cells": [
    {
      "cell_type": "markdown",
      "metadata": {
        "id": "view-in-github",
        "colab_type": "text"
      },
      "source": [
        "<a href=\"https://colab.research.google.com/github/YehorChykin/HW_DS/blob/main/HW_DS_M5_2.ipynb\" target=\"_parent\"><img src=\"https://colab.research.google.com/assets/colab-badge.svg\" alt=\"Open In Colab\"/></a>"
      ]
    },
    {
      "cell_type": "code",
      "execution_count": null,
      "metadata": {
        "id": "S_GypgxW8twU"
      },
      "outputs": [],
      "source": [
        "Імпорт бібліотек"
      ]
    },
    {
      "cell_type": "code",
      "source": [
        "import pandas as pd\n",
        "import numpy as np\n",
        "import matplotlib.pyplot as plt\n",
        "from google.colab import drive\n",
        "drive.mount('/content/drive')"
      ],
      "metadata": {
        "colab": {
          "base_uri": "https://localhost:8080/"
        },
        "id": "mME3ZSG489Vp",
        "outputId": "d7ddfd3f-25c6-4e92-b62b-4e7fbdfaee4d"
      },
      "execution_count": null,
      "outputs": [
        {
          "output_type": "stream",
          "name": "stdout",
          "text": [
            "Drive already mounted at /content/drive; to attempt to forcibly remount, call drive.mount(\"/content/drive\", force_remount=True).\n"
          ]
        }
      ]
    },
    {
      "cell_type": "markdown",
      "source": [
        "Прочитайте файл 2017_jun_final.csv за допомогою методу read_csv\n",
        "\n",
        "\n",
        "Прочитайте отриману таблицю, використовуючи метод head"
      ],
      "metadata": {
        "id": "FC2_Jdg19O6i"
      }
    },
    {
      "cell_type": "code",
      "source": [
        "df = pd.read_csv(\"/content/drive/MyDrive/DS_and_ML/2017_jun_final - 2017_jun_final.csv\")\n",
        "print(df.head())"
      ],
      "metadata": {
        "colab": {
          "base_uri": "https://localhost:8080/"
        },
        "id": "GGRBlXn39Yh9",
        "outputId": "b8f0c554-9422-4d1b-e689-cf55ce6d4a28"
      },
      "execution_count": 7,
      "outputs": [
        {
          "output_type": "stream",
          "name": "stdout",
          "text": [
            "   N                    Посада Мова програмування Спеціалізація  \\\n",
            "0  1        Junior QA engineer                NaN     Manual QA   \n",
            "1  2        Junior QA engineer                NaN     Manual QA   \n",
            "2  3         Software Engineer            C#/.NET           NaN   \n",
            "3  4         Software Engineer         JavaScript           NaN   \n",
            "4  5  Senior Software Engineer         JavaScript           NaN   \n",
            "\n",
            "  Загальний досвід роботи Досвід роботи на поточному місці  \\\n",
            "0                     0.5                              0.5   \n",
            "1         менше 3 місяців                  менше 3 місяців   \n",
            "2                       4                                1   \n",
            "3                       5                                4   \n",
            "4       10 і більше років                              0.5   \n",
            "\n",
            "   Зарплата на місяць  Зміна зарплати за 12 місяців   Місто   Розмір компанії  \\\n",
            "0                 400                             0  Харків        до 10 осіб   \n",
            "1                 430                           130  Харків  більше 1000 осіб   \n",
            "2                2500                           800    Київ      до 1000 осіб   \n",
            "3                2000                           400   Одеса       до 200 осіб   \n",
            "4                4500                           500    Інше        до 10 осіб   \n",
            "\n",
            "   ... Ще студент                    Рівень англійської  \\\n",
            "0  ...       True    Pre-intermediate (нище середнього)   \n",
            "1  ...       True  Upper-Intermediate (вище середнього)   \n",
            "2  ...      False               Intermediate (середній)   \n",
            "3  ...      False    Pre-intermediate (нище середнього)   \n",
            "4  ...      False               Intermediate (середній)   \n",
            "\n",
            "                   Предметна область      Дата заповнення  \\\n",
            "0                      iOS,eCommerce  12/06/2017 12:38:08   \n",
            "1                       Веб-розробка  12/06/2017 12:42:51   \n",
            "2  Веб-розробка,Корпоративні системи  12/06/2017 13:02:47   \n",
            "3  Desktop Applications,Веб-розробка  12/06/2017 13:03:01   \n",
            "4  Desktop Applications,Веб-розробка  12/06/2017 13:03:47   \n",
            "\n",
            "                                          User.Agent   exp current_job_exp  \\\n",
            "0  Mozilla/5.0 (Windows NT 10.0; Win64; x64) Appl...   0.5             0.5   \n",
            "1  Mozilla/5.0 (iPad; CPU OS 10_2_1 like Mac OS X...   0.0             0.0   \n",
            "2  Mozilla/5.0 (Windows NT 10.0; Win64; x64) Appl...   4.0             1.0   \n",
            "3  Mozilla/5.0 (Windows NT 6.1; Win64; x64) Apple...   5.0             4.0   \n",
            "4  Mozilla/5.0 (iPhone; CPU iPhone OS 10_3_2 like...  10.0             0.5   \n",
            "\n",
            "  salary Валюта  cls  \n",
            "0    400    NaN   QA  \n",
            "1    430    NaN   QA  \n",
            "2   2500    NaN  DEV  \n",
            "3   2000    NaN  DEV  \n",
            "4   4500    NaN  DEV  \n",
            "\n",
            "[5 rows x 25 columns]\n"
          ]
        }
      ]
    },
    {
      "cell_type": "markdown",
      "source": [
        "Визначте розмір таблиці за допомогою методу shape"
      ],
      "metadata": {
        "id": "r-qXuaWgEitf"
      }
    },
    {
      "cell_type": "code",
      "source": [
        "print(df.shape)"
      ],
      "metadata": {
        "colab": {
          "base_uri": "https://localhost:8080/"
        },
        "id": "KUKdOoRWElQp",
        "outputId": "f5827352-beed-4784-c22c-fb74cdd22d38"
      },
      "execution_count": 8,
      "outputs": [
        {
          "output_type": "stream",
          "name": "stdout",
          "text": [
            "(8704, 25)\n"
          ]
        }
      ]
    },
    {
      "cell_type": "markdown",
      "source": [
        "Визначте типи всіх стовпців за допомогою dataframe.dtypes"
      ],
      "metadata": {
        "id": "vK3TvKhOFJrF"
      }
    },
    {
      "cell_type": "code",
      "source": [
        "print(df.dtypes)"
      ],
      "metadata": {
        "colab": {
          "base_uri": "https://localhost:8080/"
        },
        "id": "TMqSw521FNTY",
        "outputId": "976ebecf-0c78-4530-965b-5c5b5ea05275"
      },
      "execution_count": 9,
      "outputs": [
        {
          "output_type": "stream",
          "name": "stdout",
          "text": [
            "N                                     int64\n",
            "Посада                               object\n",
            "Мова програмування                   object\n",
            "Спеціалізація                        object\n",
            "Загальний досвід роботи              object\n",
            "Досвід роботи на поточному місці     object\n",
            "Зарплата на місяць                    int64\n",
            "Зміна зарплати за 12 місяців          int64\n",
            "Місто                                object\n",
            "Розмір компанії                      object\n",
            "Тип компанії                         object\n",
            "Стать                                object\n",
            "Вік                                   int64\n",
            "Освіта                               object\n",
            "Університет                          object\n",
            "Ще студент                             bool\n",
            "Рівень англійської                   object\n",
            "Предметна область                    object\n",
            "Дата заповнення                      object\n",
            "User.Agent                           object\n",
            "exp                                 float64\n",
            "current_job_exp                     float64\n",
            "salary                                int64\n",
            "Валюта                               object\n",
            "cls                                  object\n",
            "dtype: object\n"
          ]
        }
      ]
    },
    {
      "cell_type": "markdown",
      "source": [
        "Порахуйте, яка частка пропусків міститься в кожній колонці (використовуйте методи isnull та sum)"
      ],
      "metadata": {
        "id": "XorrAEPaFayN"
      }
    },
    {
      "cell_type": "code",
      "source": [
        "df.isnull().sum()/df.shape[0]"
      ],
      "metadata": {
        "colab": {
          "base_uri": "https://localhost:8080/"
        },
        "id": "b69SJ4-AFcBV",
        "outputId": "03f5026b-2650-418c-89b0-49866b7084bd"
      },
      "execution_count": 10,
      "outputs": [
        {
          "output_type": "execute_result",
          "data": {
            "text/plain": [
              "N                                   0.000000\n",
              "Посада                              0.000000\n",
              "Мова програмування                  0.442325\n",
              "Спеціалізація                       0.829389\n",
              "Загальний досвід роботи             0.000000\n",
              "Досвід роботи на поточному місці    0.000000\n",
              "Зарплата на місяць                  0.000000\n",
              "Зміна зарплати за 12 місяців        0.000000\n",
              "Місто                               0.000000\n",
              "Розмір компанії                     0.000000\n",
              "Тип компанії                        0.000000\n",
              "Стать                               0.000000\n",
              "Вік                                 0.000000\n",
              "Освіта                              0.000000\n",
              "Університет                         0.041131\n",
              "Ще студент                          0.000000\n",
              "Рівень англійської                  0.000000\n",
              "Предметна область                   0.025620\n",
              "Дата заповнення                     0.000000\n",
              "User.Agent                          0.000000\n",
              "exp                                 0.000000\n",
              "current_job_exp                     0.000000\n",
              "salary                              0.000000\n",
              "Валюта                              0.998851\n",
              "cls                                 0.180836\n",
              "dtype: float64"
            ]
          },
          "metadata": {},
          "execution_count": 10
        }
      ]
    },
    {
      "cell_type": "markdown",
      "source": [
        "Видаліть усі стовпці з пропусками, крім стовпця \"Мова програмування\""
      ],
      "metadata": {
        "id": "kkAK7PQnGPwy"
      }
    },
    {
      "cell_type": "code",
      "source": [
        "df = df[['Мова програмування'] + list(df.dropna(axis=1, how='any').columns)]"
      ],
      "metadata": {
        "id": "nbtUuxVFIFqk"
      },
      "execution_count": 14,
      "outputs": []
    },
    {
      "cell_type": "markdown",
      "source": [
        "Знову порахуйте, яка частка пропусків міститься в кожній колонці і переконайтеся, що залишився тільки стовпець \"Мова.програмування\""
      ],
      "metadata": {
        "id": "ZrEnDmtoIHVx"
      }
    },
    {
      "cell_type": "code",
      "source": [
        "df.isnull().sum()/df.shape[0]"
      ],
      "metadata": {
        "colab": {
          "base_uri": "https://localhost:8080/"
        },
        "id": "bag6S8wMIKHS",
        "outputId": "59bd3b6f-20f4-455c-f812-da295bce02ce"
      },
      "execution_count": 15,
      "outputs": [
        {
          "output_type": "execute_result",
          "data": {
            "text/plain": [
              "Мова програмування                  0.442325\n",
              "N                                   0.000000\n",
              "Посада                              0.000000\n",
              "Загальний досвід роботи             0.000000\n",
              "Досвід роботи на поточному місці    0.000000\n",
              "Зарплата на місяць                  0.000000\n",
              "Зміна зарплати за 12 місяців        0.000000\n",
              "Місто                               0.000000\n",
              "Розмір компанії                     0.000000\n",
              "Тип компанії                        0.000000\n",
              "Стать                               0.000000\n",
              "Вік                                 0.000000\n",
              "Освіта                              0.000000\n",
              "Ще студент                          0.000000\n",
              "Рівень англійської                  0.000000\n",
              "Дата заповнення                     0.000000\n",
              "User.Agent                          0.000000\n",
              "exp                                 0.000000\n",
              "current_job_exp                     0.000000\n",
              "salary                              0.000000\n",
              "dtype: float64"
            ]
          },
          "metadata": {},
          "execution_count": 15
        }
      ]
    },
    {
      "cell_type": "markdown",
      "source": [
        "Видаліть усі рядки у вихідній таблиці за допомогою методу dropna"
      ],
      "metadata": {
        "id": "4rn2pwi8IzMK"
      }
    },
    {
      "cell_type": "code",
      "source": [
        "df = df.dropna()"
      ],
      "metadata": {
        "id": "kQXXszMFJUye"
      },
      "execution_count": 17,
      "outputs": []
    },
    {
      "cell_type": "markdown",
      "source": [
        "Визначте новий розмір таблиці за допомогою методу shape"
      ],
      "metadata": {
        "id": "EGsGGJIRJ8-Y"
      }
    },
    {
      "cell_type": "code",
      "source": [
        "df.shape"
      ],
      "metadata": {
        "colab": {
          "base_uri": "https://localhost:8080/"
        },
        "id": "_h0yM59QKCZr",
        "outputId": "a787f5bd-d5b2-4036-b544-60ba34342d03"
      },
      "execution_count": 18,
      "outputs": [
        {
          "output_type": "execute_result",
          "data": {
            "text/plain": [
              "(4854, 20)"
            ]
          },
          "metadata": {},
          "execution_count": 18
        }
      ]
    },
    {
      "cell_type": "markdown",
      "source": [
        "Створіть нову таблицю python_data, в якій будуть тільки рядки зі спеціалістами, які вказали мову програмування Python"
      ],
      "metadata": {
        "id": "-uhBCEsEKKMU"
      }
    },
    {
      "cell_type": "code",
      "source": [
        "python_data = df[df['Мова програмування'] == 'Python']"
      ],
      "metadata": {
        "id": "lax9exf8KLNd"
      },
      "execution_count": 19,
      "outputs": []
    },
    {
      "cell_type": "markdown",
      "source": [
        "Визначте розмір таблиці python_data за допомогою методу shape"
      ],
      "metadata": {
        "id": "3k9Lsf5UKWer"
      }
    },
    {
      "cell_type": "code",
      "source": [
        "python_data.shape"
      ],
      "metadata": {
        "colab": {
          "base_uri": "https://localhost:8080/"
        },
        "id": "3MdLxNbqKXx1",
        "outputId": "44f31cc2-a053-482a-c5b9-9cfbec8e323e"
      },
      "execution_count": 20,
      "outputs": [
        {
          "output_type": "execute_result",
          "data": {
            "text/plain": [
              "(207, 20)"
            ]
          },
          "metadata": {},
          "execution_count": 20
        }
      ]
    },
    {
      "cell_type": "markdown",
      "source": [
        "Використовуючи метод groupby, виконайте групування за стовпчиком \"Посада\""
      ],
      "metadata": {
        "id": "yw8Nl8XSKgRg"
      }
    },
    {
      "cell_type": "code",
      "source": [
        "grouped = python_data.groupby('Посада')"
      ],
      "metadata": {
        "id": "WQvczNQ-KhSm"
      },
      "execution_count": 21,
      "outputs": []
    },
    {
      "cell_type": "markdown",
      "source": [
        "Створіть новий DataFrame, де для згрупованих даних за стовпчиком \"Посада\", виконайте агрегацію даних за допомогою методу agg і знайдіть мінімальне та максимальне значення у стовпчику \"Зарплата.в.місяць\""
      ],
      "metadata": {
        "id": "qNom_QGaK1ze"
      }
    },
    {
      "cell_type": "code",
      "source": [
        "aggregated_data = grouped['Зарплата на місяць'].agg(['min', 'max'])\n",
        "print(aggregated_data)"
      ],
      "metadata": {
        "colab": {
          "base_uri": "https://localhost:8080/"
        },
        "id": "RSeMsihHK42v",
        "outputId": "d4284cd3-3758-4bce-efca-583b1fa04fc6"
      },
      "execution_count": 26,
      "outputs": [
        {
          "output_type": "stream",
          "name": "stdout",
          "text": [
            "                           min   max\n",
            "Посада                              \n",
            "Junior Software Engineer   100  1250\n",
            "Senior Software Engineer  1300  9200\n",
            "Software Engineer          500  5400\n",
            "System Architect          3000  5000\n",
            "Technical Lead            1425  6200\n"
          ]
        }
      ]
    },
    {
      "cell_type": "markdown",
      "source": [
        "Створіть функцію fill_avg_salary, яка повертатиме середнє значення заробітної плати на місяць. Використовуйте її для методу apply та створіть новий стовпчик \"avg\""
      ],
      "metadata": {
        "id": "sQk5avo3LzNA"
      }
    },
    {
      "cell_type": "code",
      "source": [
        "# В мене тут середня ЗП в місяць на посаді, взята я так розумію з середньої для даної посади\n",
        "def fill_avg_salary(group):\n",
        "    return group.mean()\n",
        "grouped = df.groupby('Посада')\n",
        "df['avg'] = grouped['Зарплата на місяць'].transform(fill_avg_salary)\n",
        "df"
      ],
      "metadata": {
        "colab": {
          "base_uri": "https://localhost:8080/",
          "height": 1000
        },
        "id": "tVDlCYzrL0jA",
        "outputId": "9acf1282-93ab-4481-810a-43ccbdfc7028"
      },
      "execution_count": 41,
      "outputs": [
        {
          "output_type": "execute_result",
          "data": {
            "text/plain": [
              "     Мова програмування     N                    Посада  \\\n",
              "2               C#/.NET     3         Software Engineer   \n",
              "3            JavaScript     4         Software Engineer   \n",
              "4            JavaScript     5  Senior Software Engineer   \n",
              "6               C#/.NET     7  Junior Software Engineer   \n",
              "7                   C++     8  Senior Software Engineer   \n",
              "...                 ...   ...                       ...   \n",
              "8692               Java  8693         Software Engineer   \n",
              "8694            C#/.NET  8695  Junior Software Engineer   \n",
              "8695             Python  8696         Software Engineer   \n",
              "8701         Ruby/Rails  8702  Junior Software Engineer   \n",
              "8703               Java  8704  Senior Software Engineer   \n",
              "\n",
              "     Загальний досвід роботи Досвід роботи на поточному місці  \\\n",
              "2                          4                                1   \n",
              "3                          5                                4   \n",
              "4          10 і більше років                              0.5   \n",
              "6                          1                  менше 3 місяців   \n",
              "7                          6                                1   \n",
              "...                      ...                              ...   \n",
              "8692                       5                                1   \n",
              "8694                       1                                1   \n",
              "8695                       1                              0.5   \n",
              "8701                       1                              0.5   \n",
              "8703                       7                                2   \n",
              "\n",
              "      Зарплата на місяць  Зміна зарплати за 12 місяців         Місто  \\\n",
              "2                   2500                           800          Київ   \n",
              "3                   2000                           400         Одеса   \n",
              "4                   4500                           500          Інше   \n",
              "6                    600                           100  Хмельницький   \n",
              "7                   3300                           500          Київ   \n",
              "...                  ...                           ...           ...   \n",
              "8692                3500                           650     Віддалено   \n",
              "8694                 550                           550        Харків   \n",
              "8695                1500                          1000          Київ   \n",
              "8701                 800                           500         Львів   \n",
              "8703                5000                           800         Одеса   \n",
              "\n",
              "     Розмір компанії   Тип компанії  ... Вік             Освіта Ще студент  \\\n",
              "2       до 1000 осіб  Аутсорсингова  ...  26               Вища      False   \n",
              "3        до 200 осіб     Продуктова  ...  30            Середня      False   \n",
              "4         до 10 осіб     Продуктова  ...  30  Технікум / Коледж      False   \n",
              "6         до 50 осіб  Аутсорсингова  ...  23               Вища      False   \n",
              "7         до 10 осіб     Продуктова  ...  28               Вища      False   \n",
              "...              ...            ...  ...  ..                ...        ...   \n",
              "8692     до 200 осіб  Аутсорсингова  ...  28               Вища      False   \n",
              "8694     до 200 осіб  Аутсорсингова  ...  23               Вища      False   \n",
              "8695      до 10 осіб        Стартап  ...  29               Вища      False   \n",
              "8701      до 10 осіб  Аутстафінгова  ...  30       Неповна Вища      False   \n",
              "8703    до 1000 осіб     Продуктова  ...  28               Вища      False   \n",
              "\n",
              "                        Рівень англійської      Дата заповнення  \\\n",
              "2                  Intermediate (середній)  12/06/2017 13:02:47   \n",
              "3       Pre-intermediate (нище середнього)  12/06/2017 13:03:01   \n",
              "4                  Intermediate (середній)  12/06/2017 13:03:47   \n",
              "6       Pre-intermediate (нище середнього)  12/06/2017 13:04:26   \n",
              "7     Upper-Intermediate (вище середнього)  12/06/2017 13:04:27   \n",
              "...                                    ...                  ...   \n",
              "8692               Intermediate (середній)  12/07/2017 13:26:49   \n",
              "8694    Pre-intermediate (нище середнього)  12/07/2017 14:14:33   \n",
              "8695               Intermediate (середній)  12/07/2017 14:39:21   \n",
              "8701  Upper-Intermediate (вище середнього)  12/07/2017 17:32:26   \n",
              "8703  Upper-Intermediate (вище середнього)  12/07/2017 21:28:57   \n",
              "\n",
              "                                             User.Agent   exp  \\\n",
              "2     Mozilla/5.0 (Windows NT 10.0; Win64; x64) Appl...   4.0   \n",
              "3     Mozilla/5.0 (Windows NT 6.1; Win64; x64) Apple...   5.0   \n",
              "4     Mozilla/5.0 (iPhone; CPU iPhone OS 10_3_2 like...  10.0   \n",
              "6     Mozilla/5.0 (Windows NT 10.0; Win64; x64) Appl...   1.0   \n",
              "7     Mozilla/5.0 (X11; Ubuntu; Linux x86_64; rv:53....   6.0   \n",
              "...                                                 ...   ...   \n",
              "8692  Mozilla/5.0 (Macintosh; Intel Mac OS X 10_12_5...   5.0   \n",
              "8694  Mozilla/5.0 (Windows NT 10.0; WOW64; rv:54.0) ...   1.0   \n",
              "8695  Mozilla/5.0 (X11; Linux x86_64) AppleWebKit/53...   1.0   \n",
              "8701  Mozilla/5.0 (X11; Linux x86_64) AppleWebKit/53...   1.0   \n",
              "8703  Mozilla/5.0 (iPad; CPU OS 10_3_2 like Mac OS X...   7.0   \n",
              "\n",
              "      current_job_exp  salary          avg  \n",
              "2                 1.0    2500  1678.630074  \n",
              "3                 4.0    2000  1678.630074  \n",
              "4                 0.5    4500  3243.200926  \n",
              "6                 0.0     600   605.658594  \n",
              "7                 1.0    3300  3243.200926  \n",
              "...               ...     ...          ...  \n",
              "8692              1.0    3500  1678.630074  \n",
              "8694              1.0     550   605.658594  \n",
              "8695              0.5    1500  1678.630074  \n",
              "8701              0.5     800   605.658594  \n",
              "8703              2.0    5000  3243.200926  \n",
              "\n",
              "[4854 rows x 21 columns]"
            ],
            "text/html": [
              "\n",
              "  <div id=\"df-1ccaeb09-53b5-442e-a6fd-c0c5e3f89192\" class=\"colab-df-container\">\n",
              "    <div>\n",
              "<style scoped>\n",
              "    .dataframe tbody tr th:only-of-type {\n",
              "        vertical-align: middle;\n",
              "    }\n",
              "\n",
              "    .dataframe tbody tr th {\n",
              "        vertical-align: top;\n",
              "    }\n",
              "\n",
              "    .dataframe thead th {\n",
              "        text-align: right;\n",
              "    }\n",
              "</style>\n",
              "<table border=\"1\" class=\"dataframe\">\n",
              "  <thead>\n",
              "    <tr style=\"text-align: right;\">\n",
              "      <th></th>\n",
              "      <th>Мова програмування</th>\n",
              "      <th>N</th>\n",
              "      <th>Посада</th>\n",
              "      <th>Загальний досвід роботи</th>\n",
              "      <th>Досвід роботи на поточному місці</th>\n",
              "      <th>Зарплата на місяць</th>\n",
              "      <th>Зміна зарплати за 12 місяців</th>\n",
              "      <th>Місто</th>\n",
              "      <th>Розмір компанії</th>\n",
              "      <th>Тип компанії</th>\n",
              "      <th>...</th>\n",
              "      <th>Вік</th>\n",
              "      <th>Освіта</th>\n",
              "      <th>Ще студент</th>\n",
              "      <th>Рівень англійської</th>\n",
              "      <th>Дата заповнення</th>\n",
              "      <th>User.Agent</th>\n",
              "      <th>exp</th>\n",
              "      <th>current_job_exp</th>\n",
              "      <th>salary</th>\n",
              "      <th>avg</th>\n",
              "    </tr>\n",
              "  </thead>\n",
              "  <tbody>\n",
              "    <tr>\n",
              "      <th>2</th>\n",
              "      <td>C#/.NET</td>\n",
              "      <td>3</td>\n",
              "      <td>Software Engineer</td>\n",
              "      <td>4</td>\n",
              "      <td>1</td>\n",
              "      <td>2500</td>\n",
              "      <td>800</td>\n",
              "      <td>Київ</td>\n",
              "      <td>до 1000 осіб</td>\n",
              "      <td>Аутсорсингова</td>\n",
              "      <td>...</td>\n",
              "      <td>26</td>\n",
              "      <td>Вища</td>\n",
              "      <td>False</td>\n",
              "      <td>Intermediate (середній)</td>\n",
              "      <td>12/06/2017 13:02:47</td>\n",
              "      <td>Mozilla/5.0 (Windows NT 10.0; Win64; x64) Appl...</td>\n",
              "      <td>4.0</td>\n",
              "      <td>1.0</td>\n",
              "      <td>2500</td>\n",
              "      <td>1678.630074</td>\n",
              "    </tr>\n",
              "    <tr>\n",
              "      <th>3</th>\n",
              "      <td>JavaScript</td>\n",
              "      <td>4</td>\n",
              "      <td>Software Engineer</td>\n",
              "      <td>5</td>\n",
              "      <td>4</td>\n",
              "      <td>2000</td>\n",
              "      <td>400</td>\n",
              "      <td>Одеса</td>\n",
              "      <td>до 200 осіб</td>\n",
              "      <td>Продуктова</td>\n",
              "      <td>...</td>\n",
              "      <td>30</td>\n",
              "      <td>Середня</td>\n",
              "      <td>False</td>\n",
              "      <td>Pre-intermediate (нище середнього)</td>\n",
              "      <td>12/06/2017 13:03:01</td>\n",
              "      <td>Mozilla/5.0 (Windows NT 6.1; Win64; x64) Apple...</td>\n",
              "      <td>5.0</td>\n",
              "      <td>4.0</td>\n",
              "      <td>2000</td>\n",
              "      <td>1678.630074</td>\n",
              "    </tr>\n",
              "    <tr>\n",
              "      <th>4</th>\n",
              "      <td>JavaScript</td>\n",
              "      <td>5</td>\n",
              "      <td>Senior Software Engineer</td>\n",
              "      <td>10 і більше років</td>\n",
              "      <td>0.5</td>\n",
              "      <td>4500</td>\n",
              "      <td>500</td>\n",
              "      <td>Інше</td>\n",
              "      <td>до 10 осіб</td>\n",
              "      <td>Продуктова</td>\n",
              "      <td>...</td>\n",
              "      <td>30</td>\n",
              "      <td>Технікум / Коледж</td>\n",
              "      <td>False</td>\n",
              "      <td>Intermediate (середній)</td>\n",
              "      <td>12/06/2017 13:03:47</td>\n",
              "      <td>Mozilla/5.0 (iPhone; CPU iPhone OS 10_3_2 like...</td>\n",
              "      <td>10.0</td>\n",
              "      <td>0.5</td>\n",
              "      <td>4500</td>\n",
              "      <td>3243.200926</td>\n",
              "    </tr>\n",
              "    <tr>\n",
              "      <th>6</th>\n",
              "      <td>C#/.NET</td>\n",
              "      <td>7</td>\n",
              "      <td>Junior Software Engineer</td>\n",
              "      <td>1</td>\n",
              "      <td>менше 3 місяців</td>\n",
              "      <td>600</td>\n",
              "      <td>100</td>\n",
              "      <td>Хмельницький</td>\n",
              "      <td>до 50 осіб</td>\n",
              "      <td>Аутсорсингова</td>\n",
              "      <td>...</td>\n",
              "      <td>23</td>\n",
              "      <td>Вища</td>\n",
              "      <td>False</td>\n",
              "      <td>Pre-intermediate (нище середнього)</td>\n",
              "      <td>12/06/2017 13:04:26</td>\n",
              "      <td>Mozilla/5.0 (Windows NT 10.0; Win64; x64) Appl...</td>\n",
              "      <td>1.0</td>\n",
              "      <td>0.0</td>\n",
              "      <td>600</td>\n",
              "      <td>605.658594</td>\n",
              "    </tr>\n",
              "    <tr>\n",
              "      <th>7</th>\n",
              "      <td>C++</td>\n",
              "      <td>8</td>\n",
              "      <td>Senior Software Engineer</td>\n",
              "      <td>6</td>\n",
              "      <td>1</td>\n",
              "      <td>3300</td>\n",
              "      <td>500</td>\n",
              "      <td>Київ</td>\n",
              "      <td>до 10 осіб</td>\n",
              "      <td>Продуктова</td>\n",
              "      <td>...</td>\n",
              "      <td>28</td>\n",
              "      <td>Вища</td>\n",
              "      <td>False</td>\n",
              "      <td>Upper-Intermediate (вище середнього)</td>\n",
              "      <td>12/06/2017 13:04:27</td>\n",
              "      <td>Mozilla/5.0 (X11; Ubuntu; Linux x86_64; rv:53....</td>\n",
              "      <td>6.0</td>\n",
              "      <td>1.0</td>\n",
              "      <td>3300</td>\n",
              "      <td>3243.200926</td>\n",
              "    </tr>\n",
              "    <tr>\n",
              "      <th>...</th>\n",
              "      <td>...</td>\n",
              "      <td>...</td>\n",
              "      <td>...</td>\n",
              "      <td>...</td>\n",
              "      <td>...</td>\n",
              "      <td>...</td>\n",
              "      <td>...</td>\n",
              "      <td>...</td>\n",
              "      <td>...</td>\n",
              "      <td>...</td>\n",
              "      <td>...</td>\n",
              "      <td>...</td>\n",
              "      <td>...</td>\n",
              "      <td>...</td>\n",
              "      <td>...</td>\n",
              "      <td>...</td>\n",
              "      <td>...</td>\n",
              "      <td>...</td>\n",
              "      <td>...</td>\n",
              "      <td>...</td>\n",
              "      <td>...</td>\n",
              "    </tr>\n",
              "    <tr>\n",
              "      <th>8692</th>\n",
              "      <td>Java</td>\n",
              "      <td>8693</td>\n",
              "      <td>Software Engineer</td>\n",
              "      <td>5</td>\n",
              "      <td>1</td>\n",
              "      <td>3500</td>\n",
              "      <td>650</td>\n",
              "      <td>Віддалено</td>\n",
              "      <td>до 200 осіб</td>\n",
              "      <td>Аутсорсингова</td>\n",
              "      <td>...</td>\n",
              "      <td>28</td>\n",
              "      <td>Вища</td>\n",
              "      <td>False</td>\n",
              "      <td>Intermediate (середній)</td>\n",
              "      <td>12/07/2017 13:26:49</td>\n",
              "      <td>Mozilla/5.0 (Macintosh; Intel Mac OS X 10_12_5...</td>\n",
              "      <td>5.0</td>\n",
              "      <td>1.0</td>\n",
              "      <td>3500</td>\n",
              "      <td>1678.630074</td>\n",
              "    </tr>\n",
              "    <tr>\n",
              "      <th>8694</th>\n",
              "      <td>C#/.NET</td>\n",
              "      <td>8695</td>\n",
              "      <td>Junior Software Engineer</td>\n",
              "      <td>1</td>\n",
              "      <td>1</td>\n",
              "      <td>550</td>\n",
              "      <td>550</td>\n",
              "      <td>Харків</td>\n",
              "      <td>до 200 осіб</td>\n",
              "      <td>Аутсорсингова</td>\n",
              "      <td>...</td>\n",
              "      <td>23</td>\n",
              "      <td>Вища</td>\n",
              "      <td>False</td>\n",
              "      <td>Pre-intermediate (нище середнього)</td>\n",
              "      <td>12/07/2017 14:14:33</td>\n",
              "      <td>Mozilla/5.0 (Windows NT 10.0; WOW64; rv:54.0) ...</td>\n",
              "      <td>1.0</td>\n",
              "      <td>1.0</td>\n",
              "      <td>550</td>\n",
              "      <td>605.658594</td>\n",
              "    </tr>\n",
              "    <tr>\n",
              "      <th>8695</th>\n",
              "      <td>Python</td>\n",
              "      <td>8696</td>\n",
              "      <td>Software Engineer</td>\n",
              "      <td>1</td>\n",
              "      <td>0.5</td>\n",
              "      <td>1500</td>\n",
              "      <td>1000</td>\n",
              "      <td>Київ</td>\n",
              "      <td>до 10 осіб</td>\n",
              "      <td>Стартап</td>\n",
              "      <td>...</td>\n",
              "      <td>29</td>\n",
              "      <td>Вища</td>\n",
              "      <td>False</td>\n",
              "      <td>Intermediate (середній)</td>\n",
              "      <td>12/07/2017 14:39:21</td>\n",
              "      <td>Mozilla/5.0 (X11; Linux x86_64) AppleWebKit/53...</td>\n",
              "      <td>1.0</td>\n",
              "      <td>0.5</td>\n",
              "      <td>1500</td>\n",
              "      <td>1678.630074</td>\n",
              "    </tr>\n",
              "    <tr>\n",
              "      <th>8701</th>\n",
              "      <td>Ruby/Rails</td>\n",
              "      <td>8702</td>\n",
              "      <td>Junior Software Engineer</td>\n",
              "      <td>1</td>\n",
              "      <td>0.5</td>\n",
              "      <td>800</td>\n",
              "      <td>500</td>\n",
              "      <td>Львів</td>\n",
              "      <td>до 10 осіб</td>\n",
              "      <td>Аутстафінгова</td>\n",
              "      <td>...</td>\n",
              "      <td>30</td>\n",
              "      <td>Неповна Вища</td>\n",
              "      <td>False</td>\n",
              "      <td>Upper-Intermediate (вище середнього)</td>\n",
              "      <td>12/07/2017 17:32:26</td>\n",
              "      <td>Mozilla/5.0 (X11; Linux x86_64) AppleWebKit/53...</td>\n",
              "      <td>1.0</td>\n",
              "      <td>0.5</td>\n",
              "      <td>800</td>\n",
              "      <td>605.658594</td>\n",
              "    </tr>\n",
              "    <tr>\n",
              "      <th>8703</th>\n",
              "      <td>Java</td>\n",
              "      <td>8704</td>\n",
              "      <td>Senior Software Engineer</td>\n",
              "      <td>7</td>\n",
              "      <td>2</td>\n",
              "      <td>5000</td>\n",
              "      <td>800</td>\n",
              "      <td>Одеса</td>\n",
              "      <td>до 1000 осіб</td>\n",
              "      <td>Продуктова</td>\n",
              "      <td>...</td>\n",
              "      <td>28</td>\n",
              "      <td>Вища</td>\n",
              "      <td>False</td>\n",
              "      <td>Upper-Intermediate (вище середнього)</td>\n",
              "      <td>12/07/2017 21:28:57</td>\n",
              "      <td>Mozilla/5.0 (iPad; CPU OS 10_3_2 like Mac OS X...</td>\n",
              "      <td>7.0</td>\n",
              "      <td>2.0</td>\n",
              "      <td>5000</td>\n",
              "      <td>3243.200926</td>\n",
              "    </tr>\n",
              "  </tbody>\n",
              "</table>\n",
              "<p>4854 rows × 21 columns</p>\n",
              "</div>\n",
              "    <div class=\"colab-df-buttons\">\n",
              "\n",
              "  <div class=\"colab-df-container\">\n",
              "    <button class=\"colab-df-convert\" onclick=\"convertToInteractive('df-1ccaeb09-53b5-442e-a6fd-c0c5e3f89192')\"\n",
              "            title=\"Convert this dataframe to an interactive table.\"\n",
              "            style=\"display:none;\">\n",
              "\n",
              "  <svg xmlns=\"http://www.w3.org/2000/svg\" height=\"24px\" viewBox=\"0 -960 960 960\">\n",
              "    <path d=\"M120-120v-720h720v720H120Zm60-500h600v-160H180v160Zm220 220h160v-160H400v160Zm0 220h160v-160H400v160ZM180-400h160v-160H180v160Zm440 0h160v-160H620v160ZM180-180h160v-160H180v160Zm440 0h160v-160H620v160Z\"/>\n",
              "  </svg>\n",
              "    </button>\n",
              "\n",
              "  <style>\n",
              "    .colab-df-container {\n",
              "      display:flex;\n",
              "      gap: 12px;\n",
              "    }\n",
              "\n",
              "    .colab-df-convert {\n",
              "      background-color: #E8F0FE;\n",
              "      border: none;\n",
              "      border-radius: 50%;\n",
              "      cursor: pointer;\n",
              "      display: none;\n",
              "      fill: #1967D2;\n",
              "      height: 32px;\n",
              "      padding: 0 0 0 0;\n",
              "      width: 32px;\n",
              "    }\n",
              "\n",
              "    .colab-df-convert:hover {\n",
              "      background-color: #E2EBFA;\n",
              "      box-shadow: 0px 1px 2px rgba(60, 64, 67, 0.3), 0px 1px 3px 1px rgba(60, 64, 67, 0.15);\n",
              "      fill: #174EA6;\n",
              "    }\n",
              "\n",
              "    .colab-df-buttons div {\n",
              "      margin-bottom: 4px;\n",
              "    }\n",
              "\n",
              "    [theme=dark] .colab-df-convert {\n",
              "      background-color: #3B4455;\n",
              "      fill: #D2E3FC;\n",
              "    }\n",
              "\n",
              "    [theme=dark] .colab-df-convert:hover {\n",
              "      background-color: #434B5C;\n",
              "      box-shadow: 0px 1px 3px 1px rgba(0, 0, 0, 0.15);\n",
              "      filter: drop-shadow(0px 1px 2px rgba(0, 0, 0, 0.3));\n",
              "      fill: #FFFFFF;\n",
              "    }\n",
              "  </style>\n",
              "\n",
              "    <script>\n",
              "      const buttonEl =\n",
              "        document.querySelector('#df-1ccaeb09-53b5-442e-a6fd-c0c5e3f89192 button.colab-df-convert');\n",
              "      buttonEl.style.display =\n",
              "        google.colab.kernel.accessAllowed ? 'block' : 'none';\n",
              "\n",
              "      async function convertToInteractive(key) {\n",
              "        const element = document.querySelector('#df-1ccaeb09-53b5-442e-a6fd-c0c5e3f89192');\n",
              "        const dataTable =\n",
              "          await google.colab.kernel.invokeFunction('convertToInteractive',\n",
              "                                                    [key], {});\n",
              "        if (!dataTable) return;\n",
              "\n",
              "        const docLinkHtml = 'Like what you see? Visit the ' +\n",
              "          '<a target=\"_blank\" href=https://colab.research.google.com/notebooks/data_table.ipynb>data table notebook</a>'\n",
              "          + ' to learn more about interactive tables.';\n",
              "        element.innerHTML = '';\n",
              "        dataTable['output_type'] = 'display_data';\n",
              "        await google.colab.output.renderOutput(dataTable, element);\n",
              "        const docLink = document.createElement('div');\n",
              "        docLink.innerHTML = docLinkHtml;\n",
              "        element.appendChild(docLink);\n",
              "      }\n",
              "    </script>\n",
              "  </div>\n",
              "\n",
              "\n",
              "<div id=\"df-9ecf895e-3958-4ba7-b885-f4484ef53ac6\">\n",
              "  <button class=\"colab-df-quickchart\" onclick=\"quickchart('df-9ecf895e-3958-4ba7-b885-f4484ef53ac6')\"\n",
              "            title=\"Suggest charts\"\n",
              "            style=\"display:none;\">\n",
              "\n",
              "<svg xmlns=\"http://www.w3.org/2000/svg\" height=\"24px\"viewBox=\"0 0 24 24\"\n",
              "     width=\"24px\">\n",
              "    <g>\n",
              "        <path d=\"M19 3H5c-1.1 0-2 .9-2 2v14c0 1.1.9 2 2 2h14c1.1 0 2-.9 2-2V5c0-1.1-.9-2-2-2zM9 17H7v-7h2v7zm4 0h-2V7h2v10zm4 0h-2v-4h2v4z\"/>\n",
              "    </g>\n",
              "</svg>\n",
              "  </button>\n",
              "\n",
              "<style>\n",
              "  .colab-df-quickchart {\n",
              "      --bg-color: #E8F0FE;\n",
              "      --fill-color: #1967D2;\n",
              "      --hover-bg-color: #E2EBFA;\n",
              "      --hover-fill-color: #174EA6;\n",
              "      --disabled-fill-color: #AAA;\n",
              "      --disabled-bg-color: #DDD;\n",
              "  }\n",
              "\n",
              "  [theme=dark] .colab-df-quickchart {\n",
              "      --bg-color: #3B4455;\n",
              "      --fill-color: #D2E3FC;\n",
              "      --hover-bg-color: #434B5C;\n",
              "      --hover-fill-color: #FFFFFF;\n",
              "      --disabled-bg-color: #3B4455;\n",
              "      --disabled-fill-color: #666;\n",
              "  }\n",
              "\n",
              "  .colab-df-quickchart {\n",
              "    background-color: var(--bg-color);\n",
              "    border: none;\n",
              "    border-radius: 50%;\n",
              "    cursor: pointer;\n",
              "    display: none;\n",
              "    fill: var(--fill-color);\n",
              "    height: 32px;\n",
              "    padding: 0;\n",
              "    width: 32px;\n",
              "  }\n",
              "\n",
              "  .colab-df-quickchart:hover {\n",
              "    background-color: var(--hover-bg-color);\n",
              "    box-shadow: 0 1px 2px rgba(60, 64, 67, 0.3), 0 1px 3px 1px rgba(60, 64, 67, 0.15);\n",
              "    fill: var(--button-hover-fill-color);\n",
              "  }\n",
              "\n",
              "  .colab-df-quickchart-complete:disabled,\n",
              "  .colab-df-quickchart-complete:disabled:hover {\n",
              "    background-color: var(--disabled-bg-color);\n",
              "    fill: var(--disabled-fill-color);\n",
              "    box-shadow: none;\n",
              "  }\n",
              "\n",
              "  .colab-df-spinner {\n",
              "    border: 2px solid var(--fill-color);\n",
              "    border-color: transparent;\n",
              "    border-bottom-color: var(--fill-color);\n",
              "    animation:\n",
              "      spin 1s steps(1) infinite;\n",
              "  }\n",
              "\n",
              "  @keyframes spin {\n",
              "    0% {\n",
              "      border-color: transparent;\n",
              "      border-bottom-color: var(--fill-color);\n",
              "      border-left-color: var(--fill-color);\n",
              "    }\n",
              "    20% {\n",
              "      border-color: transparent;\n",
              "      border-left-color: var(--fill-color);\n",
              "      border-top-color: var(--fill-color);\n",
              "    }\n",
              "    30% {\n",
              "      border-color: transparent;\n",
              "      border-left-color: var(--fill-color);\n",
              "      border-top-color: var(--fill-color);\n",
              "      border-right-color: var(--fill-color);\n",
              "    }\n",
              "    40% {\n",
              "      border-color: transparent;\n",
              "      border-right-color: var(--fill-color);\n",
              "      border-top-color: var(--fill-color);\n",
              "    }\n",
              "    60% {\n",
              "      border-color: transparent;\n",
              "      border-right-color: var(--fill-color);\n",
              "    }\n",
              "    80% {\n",
              "      border-color: transparent;\n",
              "      border-right-color: var(--fill-color);\n",
              "      border-bottom-color: var(--fill-color);\n",
              "    }\n",
              "    90% {\n",
              "      border-color: transparent;\n",
              "      border-bottom-color: var(--fill-color);\n",
              "    }\n",
              "  }\n",
              "</style>\n",
              "\n",
              "  <script>\n",
              "    async function quickchart(key) {\n",
              "      const quickchartButtonEl =\n",
              "        document.querySelector('#' + key + ' button');\n",
              "      quickchartButtonEl.disabled = true;  // To prevent multiple clicks.\n",
              "      quickchartButtonEl.classList.add('colab-df-spinner');\n",
              "      try {\n",
              "        const charts = await google.colab.kernel.invokeFunction(\n",
              "            'suggestCharts', [key], {});\n",
              "      } catch (error) {\n",
              "        console.error('Error during call to suggestCharts:', error);\n",
              "      }\n",
              "      quickchartButtonEl.classList.remove('colab-df-spinner');\n",
              "      quickchartButtonEl.classList.add('colab-df-quickchart-complete');\n",
              "    }\n",
              "    (() => {\n",
              "      let quickchartButtonEl =\n",
              "        document.querySelector('#df-9ecf895e-3958-4ba7-b885-f4484ef53ac6 button');\n",
              "      quickchartButtonEl.style.display =\n",
              "        google.colab.kernel.accessAllowed ? 'block' : 'none';\n",
              "    })();\n",
              "  </script>\n",
              "</div>\n",
              "    </div>\n",
              "  </div>\n"
            ],
            "application/vnd.google.colaboratory.intrinsic+json": {
              "type": "dataframe",
              "variable_name": "df"
            }
          },
          "metadata": {},
          "execution_count": 41
        }
      ]
    },
    {
      "cell_type": "markdown",
      "source": [
        "Створіть описову статистику за допомогою методу describe для нового стовпчика."
      ],
      "metadata": {
        "id": "-9nXddvSOoWL"
      }
    },
    {
      "cell_type": "code",
      "source": [
        "print(df['avg'].describe())"
      ],
      "metadata": {
        "colab": {
          "base_uri": "https://localhost:8080/"
        },
        "id": "Y9lirIKqOpcE",
        "outputId": "f7a756b4-6c50-46ae-8c6a-a04b7f93a907"
      },
      "execution_count": 38,
      "outputs": [
        {
          "output_type": "stream",
          "name": "stdout",
          "text": [
            "count    4854.000000\n",
            "mean     1883.371034\n",
            "std      1056.802546\n",
            "min       457.000000\n",
            "25%       605.658594\n",
            "50%      1678.630074\n",
            "75%      3243.200926\n",
            "max      7000.000000\n",
            "Name: avg, dtype: float64\n"
          ]
        }
      ]
    }
  ]
}