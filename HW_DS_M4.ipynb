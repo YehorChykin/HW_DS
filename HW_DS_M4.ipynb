{
  "nbformat": 4,
  "nbformat_minor": 0,
  "metadata": {
    "colab": {
      "provenance": [],
      "authorship_tag": "ABX9TyNCACZvGRxqAJexNeFt5WdC",
      "include_colab_link": true
    },
    "kernelspec": {
      "name": "python3",
      "display_name": "Python 3"
    },
    "language_info": {
      "name": "python"
    }
  },
  "cells": [
    {
      "cell_type": "markdown",
      "metadata": {
        "id": "view-in-github",
        "colab_type": "text"
      },
      "source": [
        "<a href=\"https://colab.research.google.com/github/YehorChykin/HW_DS/blob/main/HW_DS_M4.ipynb\" target=\"_parent\"><img src=\"https://colab.research.google.com/assets/colab-badge.svg\" alt=\"Open In Colab\"/></a>"
      ]
    },
    {
      "cell_type": "code",
      "source": [
        "import numpy as np"
      ],
      "metadata": {
        "id": "mCbuSZEBLVKr"
      },
      "execution_count": 3,
      "outputs": []
    },
    {
      "cell_type": "markdown",
      "source": [
        "1. Створіть одновимірний масив (вектор) з першими 10-ма натуральними числами та виведіть його значення."
      ],
      "metadata": {
        "id": "GTU6jU31K_VU"
      }
    },
    {
      "cell_type": "code",
      "source": [
        "a = np.arange(1,11)\n",
        "a"
      ],
      "metadata": {
        "colab": {
          "base_uri": "https://localhost:8080/"
        },
        "id": "hFUShzGWLCs-",
        "outputId": "08b5f8bf-0c18-4937-e29a-501b58bea931"
      },
      "execution_count": 4,
      "outputs": [
        {
          "output_type": "execute_result",
          "data": {
            "text/plain": [
              "array([ 1,  2,  3,  4,  5,  6,  7,  8,  9, 10])"
            ]
          },
          "metadata": {},
          "execution_count": 4
        }
      ]
    },
    {
      "cell_type": "markdown",
      "source": [
        "2. Створіть двовимірний масив (матрицю) розміром 3x3, заповніть його нулями та виведіть його значення."
      ],
      "metadata": {
        "id": "1iKikf-2LZX6"
      }
    },
    {
      "cell_type": "code",
      "source": [
        "m = np.zeros((3, 4), dtype=int)\n",
        "print(m)"
      ],
      "metadata": {
        "colab": {
          "base_uri": "https://localhost:8080/"
        },
        "id": "W6CX9kJgLlHp",
        "outputId": "3eb4440c-44b9-45c7-8888-5bf14f420146"
      },
      "execution_count": 5,
      "outputs": [
        {
          "output_type": "stream",
          "name": "stdout",
          "text": [
            "[[0 0 0 0]\n",
            " [0 0 0 0]\n",
            " [0 0 0 0]]\n"
          ]
        }
      ]
    },
    {
      "cell_type": "markdown",
      "source": [
        "3. Створіть масив розміром 5x5, заповніть його випадковими цілими числами в діапазоні від 1 до 10 та виведіть його значення."
      ],
      "metadata": {
        "id": "bQuzapP8NXtJ"
      }
    },
    {
      "cell_type": "code",
      "source": [
        "c = np.random.randint(1, 11, size=(5,5))\n",
        "print(c)"
      ],
      "metadata": {
        "colab": {
          "base_uri": "https://localhost:8080/"
        },
        "id": "UbnYeFiRNZHW",
        "outputId": "6fbd0aba-817f-4906-9d8c-56ebb518dce9"
      },
      "execution_count": 6,
      "outputs": [
        {
          "output_type": "stream",
          "name": "stdout",
          "text": [
            "[[10  2  5  9  6]\n",
            " [ 6  7  1  8  7]\n",
            " [ 5  5  7  8  9]\n",
            " [ 8  5  1  6  3]\n",
            " [ 6  8 10  6  2]]\n"
          ]
        }
      ]
    },
    {
      "cell_type": "markdown",
      "source": [
        "4. Створіть масив розміром 4x4, заповніть його випадковими дійсними числами в діапазоні від 0 до 1 та виведіть його значення."
      ],
      "metadata": {
        "id": "soQTX8XnNi6A"
      }
    },
    {
      "cell_type": "code",
      "source": [
        "np.random.rand(4,4)"
      ],
      "metadata": {
        "colab": {
          "base_uri": "https://localhost:8080/"
        },
        "id": "saMuzOQfNkpu",
        "outputId": "fec71503-cfbc-433c-b881-b5af2675db29"
      },
      "execution_count": 7,
      "outputs": [
        {
          "output_type": "execute_result",
          "data": {
            "text/plain": [
              "array([[0.07426945, 0.40330083, 0.67858694, 0.75423274],\n",
              "       [0.19156834, 0.40066372, 0.85810437, 0.42630144],\n",
              "       [0.75537746, 0.53208893, 0.90933631, 0.01595063],\n",
              "       [0.03447129, 0.23365728, 0.80190997, 0.2321283 ]])"
            ]
          },
          "metadata": {},
          "execution_count": 7
        }
      ]
    },
    {
      "cell_type": "markdown",
      "source": [
        "5.Створіть два одновимірних масиви розміром 5, заповніть їх випадковими цілими числами в діапазоні від 1 до 10 та виконайте на них поелементні операції додавання, віднімання та множення."
      ],
      "metadata": {
        "id": "8EwZsvfsN3PU"
      }
    },
    {
      "cell_type": "code",
      "source": [
        "m1 = np.random.randint(1,11,5)\n",
        "m2 = np.random.randint(1,11,5)\n",
        "print(m1)\n",
        "print(m2)\n",
        "print(m1+m2)\n",
        "print(m1-m2)\n",
        "print(m1*m2)"
      ],
      "metadata": {
        "colab": {
          "base_uri": "https://localhost:8080/"
        },
        "id": "WTp4deG8OGeE",
        "outputId": "56017b55-1aa8-43e2-84e7-e0d7bc554ea6"
      },
      "execution_count": 15,
      "outputs": [
        {
          "output_type": "stream",
          "name": "stdout",
          "text": [
            "[ 9  8 10 10  6]\n",
            "[5 7 3 3 5]\n",
            "[14 15 13 13 11]\n",
            "[4 1 7 7 1]\n",
            "[45 56 30 30 30]\n"
          ]
        }
      ]
    },
    {
      "cell_type": "markdown",
      "source": [
        "6. Створіть два вектори розміром 7, заповніть довільними числами та знайдіть їх скалярний добуток."
      ],
      "metadata": {
        "id": "i3jI_H5PUgdd"
      }
    },
    {
      "cell_type": "code",
      "source": [
        "m1 = np.random.randint(1,11,7)\n",
        "m2 = np.random.randint(1,11,7)\n",
        "\n",
        "np.dot(m1,m2)"
      ],
      "metadata": {
        "colab": {
          "base_uri": "https://localhost:8080/"
        },
        "id": "-zvkNO-2UhkN",
        "outputId": "d916ec6d-5cd6-4f99-b887-95eef99ee9c3"
      },
      "execution_count": 16,
      "outputs": [
        {
          "output_type": "execute_result",
          "data": {
            "text/plain": [
              "128"
            ]
          },
          "metadata": {},
          "execution_count": 16
        }
      ]
    },
    {
      "cell_type": "markdown",
      "source": [
        "7. Створіть дві матриці розміром 2x2 та 2x3, заповніть їх випадковими цілими числами в діапазоні від 1 до 10 та перемножте їх між собою."
      ],
      "metadata": {
        "id": "8iB13sYPUu1S"
      }
    },
    {
      "cell_type": "code",
      "source": [
        "a = np.random.randint(1,11, size=(2,2))\n",
        "b = np.random.randint(1,11, size=(2,3))\n",
        "print(a)\n",
        "print(b)\n",
        "c = np.dot(a, b)\n",
        "print(c)"
      ],
      "metadata": {
        "colab": {
          "base_uri": "https://localhost:8080/"
        },
        "id": "_0hAB4OXUv15",
        "outputId": "ed346394-c179-434d-f42c-fd1e9312ee06"
      },
      "execution_count": 22,
      "outputs": [
        {
          "output_type": "stream",
          "name": "stdout",
          "text": [
            "[[7 8]\n",
            " [5 7]]\n",
            "[[ 9  1  6]\n",
            " [ 6 10  5]]\n",
            "[[111  87  82]\n",
            " [ 87  75  65]]\n"
          ]
        }
      ]
    },
    {
      "cell_type": "markdown",
      "source": [
        "8. Створіть матрицю розміром 3x3, заповніть її випадковими цілими числами в діапазоні від 1 до 10 та знайдіть її обернену матрицю."
      ],
      "metadata": {
        "id": "S1xp2vsOWiDi"
      }
    },
    {
      "cell_type": "code",
      "source": [
        "a = np.random.randint(1,11, size=(3,3))\n",
        "print(a)\n",
        "a_inv = np.linalg.inv(a)\n",
        "print(a_inv)"
      ],
      "metadata": {
        "colab": {
          "base_uri": "https://localhost:8080/"
        },
        "id": "E6RgVlOQWjlB",
        "outputId": "b1361043-c843-405b-8b39-096ff191ab0e"
      },
      "execution_count": 27,
      "outputs": [
        {
          "output_type": "stream",
          "name": "stdout",
          "text": [
            "[[ 3  7  1]\n",
            " [ 9  3  5]\n",
            " [ 5 10  3]]\n",
            "[[ 0.66129032  0.17741935 -0.51612903]\n",
            " [ 0.03225806 -0.06451613  0.09677419]\n",
            " [-1.20967742 -0.08064516  0.87096774]]\n"
          ]
        }
      ]
    },
    {
      "cell_type": "markdown",
      "source": [
        "9. Створіть матрицю розміром 4x4, заповніть її випадковими дійсними числами в діапазоні від 0 до 1 та транспонуйте її."
      ],
      "metadata": {
        "id": "fKhdkcVEXqtI"
      }
    },
    {
      "cell_type": "code",
      "source": [
        "a = np.random.randint(1,11, size=(4,4))\n",
        "print(a)\n",
        "a.T"
      ],
      "metadata": {
        "colab": {
          "base_uri": "https://localhost:8080/"
        },
        "id": "G3DXtqJBXuwr",
        "outputId": "03d172d6-7b9e-46a3-b972-d6d654cb9a10"
      },
      "execution_count": 29,
      "outputs": [
        {
          "output_type": "stream",
          "name": "stdout",
          "text": [
            "[[ 5  4  5  7]\n",
            " [ 5  8  5  3]\n",
            " [10  7  8  9]\n",
            " [ 6  9  9  5]]\n"
          ]
        },
        {
          "output_type": "execute_result",
          "data": {
            "text/plain": [
              "array([[ 5,  5, 10,  6],\n",
              "       [ 4,  8,  7,  9],\n",
              "       [ 5,  5,  8,  9],\n",
              "       [ 7,  3,  9,  5]])"
            ]
          },
          "metadata": {},
          "execution_count": 29
        }
      ]
    },
    {
      "cell_type": "markdown",
      "source": [
        "10. Створіть матрицю розміром 3x4 та вектор розміром 4, заповніть їх випадковими цілими числами в діапазоні від 1 до 10 та перемножте матрицю на вектор."
      ],
      "metadata": {
        "id": "-BEmjpOWX8oy"
      }
    },
    {
      "cell_type": "code",
      "source": [
        "a = np.random.randint(1,11, size=(3,4))\n",
        "b = np.random.randint(1, 11, size=4)\n",
        "c = np.dot(a, b)\n",
        "print(a)\n",
        "print(b)\n",
        "print(c)"
      ],
      "metadata": {
        "colab": {
          "base_uri": "https://localhost:8080/"
        },
        "id": "eCJMMzOMYDgq",
        "outputId": "d60e035b-a366-4001-e653-e85132e881ac"
      },
      "execution_count": 31,
      "outputs": [
        {
          "output_type": "stream",
          "name": "stdout",
          "text": [
            "[[ 5  2  7  6]\n",
            " [ 6  7  3 10]\n",
            " [ 2  8  7  9]]\n",
            "[10  9 10  8]\n",
            "[186 233 234]\n"
          ]
        }
      ]
    },
    {
      "cell_type": "markdown",
      "source": [
        "11. Створіть матрицю розміром 2x3 та вектор розміром 3, заповніть їх випадковими дійсними числами в діапазоні від 0 до 1 та перемножте матрицю на вектор."
      ],
      "metadata": {
        "id": "l4c4_UtCZvoN"
      }
    },
    {
      "cell_type": "code",
      "source": [
        "a = np.random.randint(1,11, size=(2,3))\n",
        "b = np.random.randint(1, 11, size=3)\n",
        "c = np.dot(a, b)\n",
        "print(a)\n",
        "print(b)\n",
        "print(c)"
      ],
      "metadata": {
        "colab": {
          "base_uri": "https://localhost:8080/"
        },
        "id": "gQqltHrqZwmn",
        "outputId": "552eaa29-5476-41ff-d7b4-59a44e4ee80c"
      },
      "execution_count": 33,
      "outputs": [
        {
          "output_type": "stream",
          "name": "stdout",
          "text": [
            "[[ 7 10  6]\n",
            " [ 5  3  9]]\n",
            "[ 7  3 10]\n",
            "[139 134]\n"
          ]
        }
      ]
    },
    {
      "cell_type": "markdown",
      "source": [
        "12. Створіть дві матриці розміром 2x2, заповніть їх випадковими цілими числами в діапазоні від 1 до 10 та виконайте їхнє поелементне множення."
      ],
      "metadata": {
        "id": "YaQa-M05aBJC"
      }
    },
    {
      "cell_type": "code",
      "source": [
        "a = np.random.randint(1,11, size=(2,2))\n",
        "b = np.random.randint(1,11, size=(2,2))\n",
        "print(a)\n",
        "print(b)\n",
        "print(np.multiply(a,b))"
      ],
      "metadata": {
        "colab": {
          "base_uri": "https://localhost:8080/"
        },
        "id": "leHjXHlQaC5x",
        "outputId": "84779c71-c092-4965-8f98-a891305a1e65"
      },
      "execution_count": 35,
      "outputs": [
        {
          "output_type": "stream",
          "name": "stdout",
          "text": [
            "[[4 9]\n",
            " [4 1]]\n",
            "[[7 7]\n",
            " [4 5]]\n",
            "[[28 63]\n",
            " [16  5]]\n"
          ]
        }
      ]
    },
    {
      "cell_type": "markdown",
      "source": [
        "13. Створіть дві матриці розміром 2x2, заповніть їх випадковими цілими числами в діапазоні від 1 до 10 та знайдіть їх добуток."
      ],
      "metadata": {
        "id": "nvweaO2AbHYy"
      }
    },
    {
      "cell_type": "code",
      "source": [
        "a = np.random.randint(1,11, size=(2,2))\n",
        "b = np.random.randint(1,11, size=(2,2))\n",
        "print(a)\n",
        "print(b)\n",
        "print(np.dot(a, b))"
      ],
      "metadata": {
        "colab": {
          "base_uri": "https://localhost:8080/"
        },
        "id": "vjkA66MibJWT",
        "outputId": "626e8f72-c978-4894-ed85-ac24d8d95901"
      },
      "execution_count": 38,
      "outputs": [
        {
          "output_type": "stream",
          "name": "stdout",
          "text": [
            "[[6 5]\n",
            " [1 5]]\n",
            "[[ 5  1]\n",
            " [10  1]]\n",
            "[[80 11]\n",
            " [55  6]]\n"
          ]
        }
      ]
    },
    {
      "cell_type": "markdown",
      "source": [
        "14. Створіть матрицю розміром 5x5, заповніть її випадковими цілими числами в діапазоні від 1 до 100 та знайдіть суму елементів матриці."
      ],
      "metadata": {
        "id": "kb1LFG2kbsbL"
      }
    },
    {
      "cell_type": "code",
      "source": [
        "a = np.random.randint(1,101, size=(5,5))\n",
        "print(a)\n",
        "print(a.sum())"
      ],
      "metadata": {
        "colab": {
          "base_uri": "https://localhost:8080/"
        },
        "id": "kuhP8gdwbxBB",
        "outputId": "a672a1c4-9e75-4793-c635-4cf4f4e4df1c"
      },
      "execution_count": 37,
      "outputs": [
        {
          "output_type": "stream",
          "name": "stdout",
          "text": [
            "[[67 69 47 25 84]\n",
            " [66 47 37 44  1]\n",
            " [67 71 51 89 59]\n",
            " [49 50  7 56 69]\n",
            " [49 13 50 98 34]]\n",
            "1299\n"
          ]
        }
      ]
    },
    {
      "cell_type": "markdown",
      "source": [
        "15. Створіть дві матриці розміром 4x4, заповніть їх випадковими цілими числами в діапазоні від 1 до 10 та знайдіть їхню різницю."
      ],
      "metadata": {
        "id": "6AN1aJBhcHI3"
      }
    },
    {
      "cell_type": "code",
      "source": [
        "a = np.random.randint(1,11, size=(4,4))\n",
        "b = np.random.randint(1,11, size=(4,4))\n",
        "print(a)\n",
        "print(b)\n",
        "print(a-b)"
      ],
      "metadata": {
        "colab": {
          "base_uri": "https://localhost:8080/"
        },
        "id": "JBWDwJDNcIEi",
        "outputId": "55a76736-1f48-49a2-9f72-719410250a4e"
      },
      "execution_count": 45,
      "outputs": [
        {
          "output_type": "stream",
          "name": "stdout",
          "text": [
            "[[ 7  8  9  8]\n",
            " [ 4  4  2  5]\n",
            " [ 5  8 10  3]\n",
            " [ 9  6  4  6]]\n",
            "[[10  6 10  9]\n",
            " [ 4  7  9 10]\n",
            " [ 8  8  2  7]\n",
            " [ 6  4  8  2]]\n",
            "[[-3  2 -1 -1]\n",
            " [ 0 -3 -7 -5]\n",
            " [-3  0  8 -4]\n",
            " [ 3  2 -4  4]]\n"
          ]
        }
      ]
    },
    {
      "cell_type": "markdown",
      "source": [
        "16. Створіть матрицю розміром 3x3, заповніть її випадковими дійсними числами в діапазоні від 0 до 1 та знайдіть вектор-стовпчик, що містить суму елементів кожного рядка матриці."
      ],
      "metadata": {
        "id": "fQn8wAFlcg_W"
      }
    },
    {
      "cell_type": "code",
      "source": [
        "a = np.random.rand(3,3)\n",
        "print(a)\n",
        "s = np.sum(a, axis=1)\n",
        "print(s)\n",
        "v = s.reshape(-1, 1)\n",
        "print(v)"
      ],
      "metadata": {
        "colab": {
          "base_uri": "https://localhost:8080/"
        },
        "id": "87RTAubDcjp1",
        "outputId": "c3288847-241b-4aab-8f4c-1965465d829d"
      },
      "execution_count": 44,
      "outputs": [
        {
          "output_type": "stream",
          "name": "stdout",
          "text": [
            "[[0.63008415 0.92054127 0.80142268]\n",
            " [0.18565557 0.85778452 0.84866704]\n",
            " [0.55742155 0.3758135  0.16982963]]\n",
            "[2.35204809 1.89210713 1.10306468]\n",
            "[[2.35204809]\n",
            " [1.89210713]\n",
            " [1.10306468]]\n"
          ]
        }
      ]
    },
    {
      "cell_type": "markdown",
      "source": [
        "17. Створіть матрицю розміром 3x4 з довільними цілими числами і створінь матрицю з квадратами цих чисел."
      ],
      "metadata": {
        "id": "eJ7unsQ2eW16"
      }
    },
    {
      "cell_type": "code",
      "source": [
        "a = np.random.randint(1,11, size=(3,4))\n",
        "print(a)\n",
        "akv = np.square(a)\n",
        "print(akv)\n"
      ],
      "metadata": {
        "colab": {
          "base_uri": "https://localhost:8080/"
        },
        "id": "vLAi2pVEeYCJ",
        "outputId": "2c82b973-4334-4f88-8d87-b6c7d2794272"
      },
      "execution_count": 46,
      "outputs": [
        {
          "output_type": "stream",
          "name": "stdout",
          "text": [
            "[[ 9  4  3  6]\n",
            " [ 5  5  4  3]\n",
            " [ 4  2 10  3]]\n",
            "[[ 81  16   9  36]\n",
            " [ 25  25  16   9]\n",
            " [ 16   4 100   9]]\n"
          ]
        }
      ]
    },
    {
      "cell_type": "markdown",
      "source": [
        "18. Створіть вектор розміром 4, заповніть його випадковими цілими числами в діапазоні від 1 до 50 та знайдіть вектор з квадратними коренями цих чисел."
      ],
      "metadata": {
        "id": "Tcv8L1asfOQY"
      }
    },
    {
      "cell_type": "code",
      "source": [
        "v = np.random.randint(1, 51, size=4)\n",
        "print(v)\n",
        "vkor = np.sqrt(v)\n",
        "print(vkor)"
      ],
      "metadata": {
        "colab": {
          "base_uri": "https://localhost:8080/"
        },
        "id": "_zrOe1iGfQr1",
        "outputId": "c522e66f-0147-46cd-f8cf-62eaacb48c10"
      },
      "execution_count": 48,
      "outputs": [
        {
          "output_type": "stream",
          "name": "stdout",
          "text": [
            "[18  3 14 24]\n",
            "[4.24264069 1.73205081 3.74165739 4.89897949]\n"
          ]
        }
      ]
    }
  ]
}